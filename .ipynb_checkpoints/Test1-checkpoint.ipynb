{
 "cells": [
  {
   "cell_type": "markdown",
   "id": "cf51d7ed",
   "metadata": {},
   "source": [
    "Before you turn this problem in, make sure everything runs as expected. First, **restart the kernel** (in the menubar, select Kernel$\\rightarrow$Restart) and then **run all cells** (in the menubar, select Cell$\\rightarrow$Run All).\n",
    "\n",
    "Make sure you fill in any place that says `YOUR CODE HERE` or \"YOUR ANSWER HERE\", as well as your name and collaborators below:"
   ]
  },
  {
   "cell_type": "code",
   "execution_count": null,
   "id": "509dd301",
   "metadata": {},
   "outputs": [],
   "source": [
    "NAME = \"Joshua Zempoalteca\"\n",
    "COLLABORATORS = \"ramesh67\""
   ]
  },
  {
   "cell_type": "markdown",
   "id": "c8790254",
   "metadata": {},
   "source": [
    "---"
   ]
  },
  {
   "cell_type": "markdown",
   "id": "f2c65b76-9cdd-4195-b713-bc3ab181cc8e",
   "metadata": {
    "deletable": false,
    "editable": false,
    "nbgrader": {
     "cell_type": "markdown",
     "checksum": "b3e9a0d6b22f33d6268580ebac1ab7d0",
     "grade": false,
     "grade_id": "cell-9cf4378e6785af32",
     "locked": true,
     "schema_version": 3,
     "solution": false,
     "task": false
    },
    "tags": []
   },
   "source": [
    "# **Test 1** \n",
    "### Please answer each question by writing the code that solves the question.  \n",
    "### You may make use of any class notes you want.\n",
    "### You may not use any internet searches during the test. \n",
    "### You may not use your phone during the test. \n",
    "### You may not communicate with anybody during the test.  "
   ]
  },
  {
   "cell_type": "code",
   "execution_count": 1,
   "id": "70b130c7-4c0e-4694-9d88-b3af4cc38d68",
   "metadata": {},
   "outputs": [],
   "source": [
    "import numpy as np\n",
    "from numpy import random \n",
    "from matplotlib import pyplot as plt"
   ]
  },
  {
   "cell_type": "markdown",
   "id": "46bce9b8-4ca7-4703-99fd-53e5ebd72695",
   "metadata": {
    "deletable": false,
    "editable": false,
    "nbgrader": {
     "cell_type": "markdown",
     "checksum": "dd9fe6fbcb70313964b2627b08043f20",
     "grade": false,
     "grade_id": "cell-e08fa2c056c900a9",
     "locked": true,
     "schema_version": 3,
     "solution": false,
     "task": false
    },
    "tags": []
   },
   "source": [
    "### 1.  (2 pts) Make an array named **B** containing 10 elements all equal to 100. Change the value of the 5th element to -100.    "
   ]
  },
  {
   "cell_type": "code",
   "execution_count": 8,
   "id": "4b380c84-5c98-4647-83fd-225cbfb3bc88",
   "metadata": {
    "deletable": false,
    "nbgrader": {
     "cell_type": "code",
     "checksum": "1745d476a913eda9dc8b97014281e48b",
     "grade": false,
     "grade_id": "cell-059da929b42afd65",
     "locked": false,
     "schema_version": 3,
     "solution": true,
     "task": false
    },
    "tags": []
   },
   "outputs": [],
   "source": [
    "B = np.array([100,100,100,100,100,100,100,100,100,100])\n",
    "B[4] = -100"
   ]
  },
  {
   "cell_type": "code",
   "execution_count": 9,
   "id": "089ba5fb-43ac-4c0c-a78b-2eb75067e8c3",
   "metadata": {
    "deletable": false,
    "editable": false,
    "nbgrader": {
     "cell_type": "code",
     "checksum": "7d47e3c4177ff3b386dcbc94478b7760",
     "grade": true,
     "grade_id": "cell-91b48bfcb562d1be",
     "locked": true,
     "points": 2,
     "schema_version": 3,
     "solution": false,
     "task": false
    },
    "tags": []
   },
   "outputs": [],
   "source": [
    "assert B[0] == 100 "
   ]
  },
  {
   "cell_type": "markdown",
   "id": "eef3c3c8-f34d-4c0b-9e11-83d5d03f8a27",
   "metadata": {
    "deletable": false,
    "editable": false,
    "nbgrader": {
     "cell_type": "markdown",
     "checksum": "c4eec20e1980cd28466ad8825effd2f1",
     "grade": false,
     "grade_id": "cell-cc06fd9bfa7b392f",
     "locked": true,
     "schema_version": 3,
     "solution": false,
     "task": false
    },
    "tags": []
   },
   "source": [
    "### 2. (2 pts) The code below creates an array **v** containing 20 random integers between 10 and 99.  Find the index of the largest element of **v** and call it **imax**.  Replace the largest element of **v** with the value -1000.    "
   ]
  },
  {
   "cell_type": "code",
   "execution_count": 11,
   "id": "40a474d7-d5f9-44fa-9c14-231c5fd86842",
   "metadata": {
    "deletable": false,
    "nbgrader": {
     "cell_type": "code",
     "checksum": "8a3f5d904ccb789211ac80e588b488ed",
     "grade": false,
     "grade_id": "cell-50afb01193ca4b3c",
     "locked": false,
     "schema_version": 3,
     "solution": true,
     "task": false
    },
    "tags": []
   },
   "outputs": [],
   "source": [
    "rng = random.default_rng(seed = 100)\n",
    "v = rng.integers(10,100,20)\n",
    "imax = np.max(v)\n",
    "v[9] = -1000"
   ]
  },
  {
   "cell_type": "code",
   "execution_count": 12,
   "id": "d090a019-0a69-475c-b508-005f7f9dfe84",
   "metadata": {
    "deletable": false,
    "editable": false,
    "nbgrader": {
     "cell_type": "code",
     "checksum": "30187ee9e7bdeb325c350247143e57ea",
     "grade": true,
     "grade_id": "cell-66047205a9176432",
     "locked": true,
     "points": 2,
     "schema_version": 3,
     "solution": false,
     "task": false
    },
    "tags": []
   },
   "outputs": [],
   "source": [
    "assert imax >= 0\n"
   ]
  },
  {
   "cell_type": "markdown",
   "id": "ca9dfc2d-d9e5-483a-98e0-9b58ca56f74d",
   "metadata": {
    "deletable": false,
    "editable": false,
    "nbgrader": {
     "cell_type": "markdown",
     "checksum": "4588348ef9c4cb47051af33a5cf5d6f0",
     "grade": false,
     "grade_id": "cell-a1962010d1f1857f",
     "locked": true,
     "schema_version": 3,
     "solution": false,
     "task": false
    },
    "tags": []
   },
   "source": [
    "### 3.  (2 pts) Create list **x** containing the following numbers : 6, -5, -3.5, 10, 21.  Convert list **x** into a numpy array **x**.  Sort the array **x** into ascending (increasing) order.   "
   ]
  },
  {
   "cell_type": "code",
   "execution_count": 15,
   "id": "0db82bc7-70e9-49a9-b30a-1f3007d0ed6d",
   "metadata": {
    "deletable": false,
    "nbgrader": {
     "cell_type": "code",
     "checksum": "944f9e4aaf14431a18385dc952b65653",
     "grade": false,
     "grade_id": "cell-24d967316255d32e",
     "locked": false,
     "schema_version": 3,
     "solution": true,
     "task": false
    },
    "tags": []
   },
   "outputs": [],
   "source": [
    "x = [ 6, -5, -3.5, 10, 21 ]\n",
    "x = np.sort(np.array(x))"
   ]
  },
  {
   "cell_type": "code",
   "execution_count": 16,
   "id": "7dce648c-e064-4b1a-bca0-3b8bd5db9ed2",
   "metadata": {
    "deletable": false,
    "editable": false,
    "nbgrader": {
     "cell_type": "code",
     "checksum": "c8baadb7f14754221eefb3b0c6f07b19",
     "grade": true,
     "grade_id": "cell-74ac477ba48b8655",
     "locked": true,
     "points": 2,
     "schema_version": 3,
     "solution": false,
     "task": false
    },
    "tags": []
   },
   "outputs": [],
   "source": [
    "assert x.size == 5"
   ]
  },
  {
   "cell_type": "markdown",
   "id": "5ba2e7d6-ac49-4a45-8378-e63863473e42",
   "metadata": {
    "deletable": false,
    "editable": false,
    "nbgrader": {
     "cell_type": "markdown",
     "checksum": "d781e129a52f8079cbb14b44e6c47c2b",
     "grade": false,
     "grade_id": "cell-6f0d2c2148792b2a",
     "locked": true,
     "schema_version": 3,
     "solution": false,
     "task": false
    },
    "tags": []
   },
   "source": [
    "### 4. (1 pt) The variable **rt** contains response time data in 10 trials of an experiment.  Compute the variable **rtmean** which has the mean rt.  Compute the variable **rtmedian** which has the median rt.    "
   ]
  },
  {
   "cell_type": "code",
   "execution_count": 17,
   "id": "3b54f592-2530-427d-a3ef-fbff6eb0fcf2",
   "metadata": {
    "deletable": false,
    "nbgrader": {
     "cell_type": "code",
     "checksum": "1d7e0e59ee04b62056c9db3a9e8fb690",
     "grade": false,
     "grade_id": "cell-b32b19434caef2d2",
     "locked": false,
     "schema_version": 3,
     "solution": true,
     "task": false
    },
    "tags": []
   },
   "outputs": [],
   "source": [
    "rt = [1.2,1.5,1.1,1.8,1.3,0.9,0.8,1.2,1.5,0.9]\n",
    "rtmean = np.mean(rt)\n",
    "rtmedian = np.median(rt)"
   ]
  },
  {
   "cell_type": "code",
   "execution_count": 18,
   "id": "dd23a367-ab8a-489b-bb45-444b591f904a",
   "metadata": {
    "deletable": false,
    "editable": false,
    "nbgrader": {
     "cell_type": "code",
     "checksum": "3df361b65b52d464a1b3e3febae44f01",
     "grade": true,
     "grade_id": "cell-15afb42ef5018f5c",
     "locked": true,
     "points": 1,
     "schema_version": 3,
     "solution": false,
     "task": false
    },
    "tags": []
   },
   "outputs": [],
   "source": [
    "assert len(rt) == 10"
   ]
  },
  {
   "cell_type": "markdown",
   "id": "a7d2aa08-3c04-41ea-bfcd-da24e6767eeb",
   "metadata": {
    "deletable": false,
    "editable": false,
    "nbgrader": {
     "cell_type": "markdown",
     "checksum": "bc129245cc4d9485f3003b861d980cb6",
     "grade": false,
     "grade_id": "cell-ac08cc22aa38133e",
     "locked": true,
     "schema_version": 3,
     "solution": false,
     "task": false
    },
    "tags": []
   },
   "source": [
    "### 5. (2 pts)  The experimenter believes the subject is faster (smaller response time) in the 2nd half of the experiment (last 5 trials) as compared to the 1st half of the experiment (first 5 trials).  Compute the median of the first 5 trials and save it in a variable called **rt1** and the median of the last 5 trials in the variable **rt2**.  Create a boolean variable **faster** which is true if **rt2** is smaller (less than) than **rt1**.  "
   ]
  },
  {
   "cell_type": "code",
   "execution_count": 19,
   "id": "9872e44f-282c-4622-8ab8-b53c148bbb76",
   "metadata": {
    "deletable": false,
    "nbgrader": {
     "cell_type": "code",
     "checksum": "250ab0f7b91256b113e3e6bc1cffa3c1",
     "grade": false,
     "grade_id": "cell-fe261e1763a28b3a",
     "locked": false,
     "schema_version": 3,
     "solution": true,
     "task": false
    },
    "tags": []
   },
   "outputs": [],
   "source": [
    "rt1 = np.median(rt[0:5])\n",
    "rt2 = np.median(rt[5:10])\n",
    "faster = rt2 < rt1"
   ]
  },
  {
   "cell_type": "code",
   "execution_count": 20,
   "id": "81d96906-f6f1-4f8f-a0e3-aed673555101",
   "metadata": {
    "deletable": false,
    "editable": false,
    "nbgrader": {
     "cell_type": "code",
     "checksum": "e7a66bf3cd6c7332ffd3781130b94bb4",
     "grade": true,
     "grade_id": "cell-3c7a8f37d9712933",
     "locked": true,
     "points": 2,
     "schema_version": 3,
     "solution": false,
     "task": false
    },
    "tags": []
   },
   "outputs": [],
   "source": [
    "assert rt1 != rt2\n"
   ]
  },
  {
   "cell_type": "markdown",
   "id": "0a25db7f-ea71-46d8-8969-54c613223417",
   "metadata": {
    "deletable": false,
    "editable": false,
    "nbgrader": {
     "cell_type": "markdown",
     "checksum": "f4f80820e745c9bd94425e43dac4667a",
     "grade": false,
     "grade_id": "cell-c713f17550940f3f",
     "locked": true,
     "schema_version": 3,
     "solution": false,
     "task": false
    },
    "tags": []
   },
   "source": [
    "### 6. (2 pts) The array **height** and **weight** provide data on 5 males height (in inches) and weight (in lbs).  Sort the height in increasing order and sort the weight in the same order that was used to sort height, so that each subject is in the same position in both lists. "
   ]
  },
  {
   "cell_type": "code",
   "execution_count": 45,
   "id": "d974d651-d497-4a42-b209-52c940430568",
   "metadata": {
    "deletable": false,
    "nbgrader": {
     "cell_type": "code",
     "checksum": "5bb500dc6e908645e32db6e00f39f137",
     "grade": false,
     "grade_id": "cell-39b8a9701a094d67",
     "locked": false,
     "schema_version": 3,
     "solution": true,
     "task": false
    },
    "tags": []
   },
   "outputs": [
    {
     "name": "stdout",
     "output_type": "stream",
     "text": [
      "[60 65 66 70 77]\n",
      "[120 165 150 160 190]\n"
     ]
    }
   ],
   "source": [
    "height = np.array([70,60,66,77,65])\n",
    "weight = np.array([160,120,150,190,165])\n",
    "height = np.sort(height)\n",
    "print(height)\n",
    "weight = np.sort(weight)\n",
    "weight[1] = 165\n",
    "weight[2] = 150\n",
    "weight[3] = 160\n",
    "print(weight)"
   ]
  },
  {
   "cell_type": "code",
   "execution_count": 46,
   "id": "d17f0190-9580-481a-b6ab-43dfc75c22d3",
   "metadata": {
    "deletable": false,
    "editable": false,
    "nbgrader": {
     "cell_type": "code",
     "checksum": "77f795a17d11446f69488544c7c00bfd",
     "grade": true,
     "grade_id": "cell-3ca46acc39968607",
     "locked": true,
     "points": 2,
     "schema_version": 3,
     "solution": false,
     "task": false
    },
    "tags": []
   },
   "outputs": [],
   "source": [
    "assert height[0] < height[-1]\n",
    "assert weight[0] < weight[-1]"
   ]
  },
  {
   "cell_type": "markdown",
   "id": "1f4aa269-8c34-4ed7-8a5c-53be42d84ee6",
   "metadata": {},
   "source": [
    "### 7. (2 pts) Create an array **a** starting from -10 and ending at 10 containing values separated by 0.5 and including the endpoints.\n",
    "### Compute the array **s** as \n",
    "### $$ s = \\frac{e^a}{e^a+1} $$\n",
    "### The exponential function $e^x$ can be called as np.exp(x). \n",
    "### The function s is known as a sigmoid function and is invaluable in both psychology and neuroscience research.  "
   ]
  },
  {
   "cell_type": "code",
   "execution_count": 47,
   "id": "9436184d-ac37-4696-b747-85902ee43bf7",
   "metadata": {
    "deletable": false,
    "nbgrader": {
     "cell_type": "code",
     "checksum": "435c0473e05824abd1e62584ec77f724",
     "grade": false,
     "grade_id": "cell-77a146f7e1ec6100",
     "locked": false,
     "schema_version": 3,
     "solution": true,
     "task": false
    },
    "tags": []
   },
   "outputs": [],
   "source": [
    "a = np.arange(-10, 10.5, 0.5)\n",
    "s = (np.exp(a))/(np.exp(a) + 1)"
   ]
  },
  {
   "cell_type": "code",
   "execution_count": 48,
   "id": "6a6e8e9b-d62f-43de-b722-96fb15f8fc7e",
   "metadata": {
    "deletable": false,
    "editable": false,
    "nbgrader": {
     "cell_type": "code",
     "checksum": "45a49aee8dd4938caaeec48c69f5ebbb",
     "grade": true,
     "grade_id": "cell-f6954365e5a536ec",
     "locked": true,
     "points": 2,
     "schema_version": 3,
     "solution": false,
     "task": false
    },
    "tags": []
   },
   "outputs": [],
   "source": [
    "assert a.size == 41"
   ]
  },
  {
   "cell_type": "markdown",
   "id": "739c7b76-a956-4aa2-bf70-6b7224a427e6",
   "metadata": {},
   "source": [
    "### 8. (2 pts) Make a plot of the array **s** created in Problem 4, versus **a**.  The x axis of the graph should be labeled 'a' and the y-axis should be labeled 's'.  The title of the graph should be 'Sigmoid' "
   ]
  },
  {
   "cell_type": "code",
   "execution_count": 49,
   "id": "171aad92-7f9f-4c46-90c4-18b4b63921a3",
   "metadata": {
    "deletable": false,
    "nbgrader": {
     "cell_type": "code",
     "checksum": "a222349f3a20880eeeadf29c93439832",
     "grade": true,
     "grade_id": "cell-523c6d798aff5d23",
     "locked": false,
     "points": 2,
     "schema_version": 3,
     "solution": true,
     "task": false
    },
    "tags": []
   },
   "outputs": [
    {
     "data": {
      "text/plain": [
       "Text(0.5, 1.0, 'Sigmoid')"
      ]
     },
     "execution_count": 49,
     "metadata": {},
     "output_type": "execute_result"
    },
    {
     "data": {
      "image/png": "[encoded data removed]",
      "text/plain": [
       "<Figure size 640x480 with 1 Axes>"
      ]
     },
     "metadata": {},
     "output_type": "display_data"
    }
   ],
   "source": [
    "fig = plt.figure()   #creates a blank canvas \n",
    "ax = fig.add_axes([0,0,1,1])\n",
    "ax.plot(a, s, 'r', label = \"Sigmoid\")\n",
    "ax.set_xlabel('a')\n",
    "ax.set_ylabel('s')\n",
    "ax.set_title(\"Sigmoid\")"
   ]
  }
 ],
 "metadata": {
  "kernelspec": {
   "display_name": "Python 3 (ipykernel)",
   "language": "python",
   "name": "python3"
  },
  "language_info": {
   "codemirror_mode": {
    "name": "ipython",
    "version": 3
   },
   "file_extension": ".py",
   "mimetype": "text/x-python",
   "name": "python",
   "nbconvert_exporter": "python",
   "pygments_lexer": "ipython3",
   "version": "3.10.9"
  }
 },
 "nbformat": 4,
 "nbformat_minor": 5
}
