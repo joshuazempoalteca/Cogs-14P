{
 "cells": [
  {
   "cell_type": "markdown",
   "id": "b19b0e07",
   "metadata": {},
   "source": [
    "Before you turn this problem in, make sure everything runs as expected. First, **restart the kernel** (in the menubar, select Kernel$\\rightarrow$Restart) and then **run all cells** (in the menubar, select Cell$\\rightarrow$Run All).\n",
    "\n",
    "Make sure you fill in any place that says `YOUR CODE HERE` or \"YOUR ANSWER HERE\", as well as your name and collaborators below:"
   ]
  },
  {
   "cell_type": "code",
   "execution_count": 1,
   "id": "269cd65b",
   "metadata": {},
   "outputs": [],
   "source": [
    "NAME = \"Joshua Zempoalteca\"\n",
    "COLLABORATORS = \"Yara Currier-Herzallah\""
   ]
  },
  {
   "cell_type": "markdown",
   "id": "981cc7af",
   "metadata": {},
   "source": [
    "---"
   ]
  },
  {
   "cell_type": "markdown",
   "id": "7a1b567f-74b4-4e18-bc9f-4ee25ff96453",
   "metadata": {
    "deletable": false,
    "editable": false,
    "nbgrader": {
     "cell_type": "markdown",
     "checksum": "978c890d9f18068385b4e6a51846d2f0",
     "grade": false,
     "grade_id": "cell-35d86e5c777fa188",
     "locked": true,
     "schema_version": 3,
     "solution": false,
     "task": false
    },
    "tags": []
   },
   "source": [
    "# **Problem Set 2**:  Loading and Visualizing Data\n",
    "\n",
    "### This is a problem set.  You can work on it with the help of your classmates, Google, or ask me any questions you would like. \n",
    "### There are some new methods introduced in the problem set. \n",
    "### I encourage discussion during these problem sets.  Todays problem set is relatively short.  \n",
    "### The problem set is due at 2:40 pm.  We will spend the last 10 minutes of class briefly looking over my answers. "
   ]
  },
  {
   "cell_type": "code",
   "execution_count": 2,
   "id": "2c020eef-893b-4e60-8938-1354695563a5",
   "metadata": {},
   "outputs": [],
   "source": [
    "# your going to need numpy, pandas, and pyplot to do this assignment \n",
    "import numpy as np\n",
    "import pandas as pd\n",
    "from matplotlib import pyplot as plt "
   ]
  },
  {
   "cell_type": "markdown",
   "id": "34ec943e-29ab-4e98-aeb6-43927379e41d",
   "metadata": {
    "deletable": false,
    "editable": false,
    "nbgrader": {
     "cell_type": "markdown",
     "checksum": "339cc72b1985726c2c7436a551a58505",
     "grade": false,
     "grade_id": "cell-683ed3590d7f5e6c",
     "locked": true,
     "schema_version": 3,
     "solution": false,
     "task": false
    },
    "tags": []
   },
   "source": [
    "## Data Story \n",
    "### Why do older people often seem not to remember things as well as younger people? \n",
    "### Do they not pay attention? Do they just not process the material as thoroughly? \n",
    "### One theory regarding memory is that verbal material is remembered as a function of the degree to which is was processed when it was initially presented. Eysenck (1974) randomly assigned 50 younger subjects and 50 older (between 55 and 65 years old) to one of five learning groups presented a word list containing 27 words. For each age group the participants were divided int 5 groups given different tasks assumed to require increased processing: \n",
    "1. #### Counting group was asked to read through a list of words and count the number of letters in each word. \n",
    "2. #### The Rhyming group was asked to read each word and think of a word that rhymed with it. \n",
    "3. #### The Adjective group was asked to give an adjective that could reasonably be used to modify each word in the list. \n",
    "4. #### The Imagery group was instructed to form vivid images of each word, and this was assumed to require the deepest level of processing. T\n",
    "5. #### The Intentional group was asked to memorize the words for later recall. \n",
    "### Only the Intentional group was explicitly made aware of the subsequent recall task. After the subjects had gone through the list of 27 items three times, they were asked to write down all the words they could remember in a free recall task."
   ]
  },
  {
   "cell_type": "markdown",
   "id": "02282ad7-838a-4d93-a494-7cb92b6f5cf5",
   "metadata": {},
   "source": [
    "### 1. Use pandas to load the data in the file age_and_memory.csv into python into a DataFrame called **memory**.   Print out the keys in **memory**. \n",
    "### A good way to gain confidence in your processes is to examine data in other ways. csv files are very convenient, because they are text files.  If you double click on it, jupyter lab will open the file.  "
   ]
  },
  {
   "cell_type": "code",
   "execution_count": 3,
   "id": "7ffa25d8-174c-48ed-b51b-e9773b6becc6",
   "metadata": {
    "deletable": false,
    "nbgrader": {
     "cell_type": "code",
     "checksum": "6965a9bfa2b109bb8f673b99e6feeb14",
     "grade": false,
     "grade_id": "cell-3d60b9e92ff1f9ea",
     "locked": false,
     "schema_version": 3,
     "solution": true,
     "task": false
    },
    "tags": []
   },
   "outputs": [
    {
     "name": "stdout",
     "output_type": "stream",
     "text": [
      "Index(['Age', 'Counting', 'Rhyming', 'Adjective', 'Imagery', 'Intentional'], dtype='object')\n"
     ]
    }
   ],
   "source": [
    "memory = pd.read_csv('age_and_memory.csv')\n",
    "print(memory.keys())"
   ]
  },
  {
   "cell_type": "code",
   "execution_count": 4,
   "id": "822ff512-dc0a-4d28-8b1f-5f4497bc5942",
   "metadata": {
    "deletable": false,
    "editable": false,
    "nbgrader": {
     "cell_type": "code",
     "checksum": "296e3a023207c640b9006fb503123df8",
     "grade": true,
     "grade_id": "cell-255c85e7ba606808",
     "locked": true,
     "points": 1,
     "schema_version": 3,
     "solution": false,
     "task": false
    },
    "tags": []
   },
   "outputs": [],
   "source": [
    "assert memory.keys()[0] =='Age'\n",
    "assert memory.keys()[-1] == 'Intentional'"
   ]
  },
  {
   "cell_type": "markdown",
   "id": "65a0fa75-47a0-4026-9156-7cc67d6b340f",
   "metadata": {
    "deletable": false,
    "editable": false,
    "nbgrader": {
     "cell_type": "markdown",
     "checksum": "7e47a416611dd6f352b517cd05ec8f36",
     "grade": false,
     "grade_id": "cell-0be05963baf47690",
     "locked": true,
     "schema_version": 3,
     "solution": false,
     "task": false
    },
    "tags": []
   },
   "source": [
    "### 2. The Age column contains a text variable which identifies the groups.  The other 5 variables correspond to the 5 tasks, and contain numerical scores of the number of items recalled.  From the **memory** DataFrame use the `keys` to extract the data for the 5 tasks into separate variables, **counting**,**rhyming**,**adjective**,**imagery**,**intentional**.  Instead of containing the number of items, convert each of the numeric values into an *accuracy* score as a fraction of the 27 items on the test. "
   ]
  },
  {
   "cell_type": "code",
   "execution_count": null,
   "id": "aebf2ee2",
   "metadata": {},
   "outputs": [],
   "source": []
  },
  {
   "cell_type": "code",
   "execution_count": 5,
   "id": "37604db4-5c09-4ee3-94f2-29cdf473d30c",
   "metadata": {
    "deletable": false,
    "nbgrader": {
     "cell_type": "code",
     "checksum": "50358f629944d2206e4213085d0046ab",
     "grade": false,
     "grade_id": "cell-57b7eff8211d39c3",
     "locked": false,
     "schema_version": 3,
     "solution": true,
     "task": false
    },
    "tags": []
   },
   "outputs": [],
   "source": [
    "counting = memory['Counting']/27\n",
    "rhyming = memory['Rhyming']/27\n",
    "adjective = memory['Adjective']/27\n",
    "imagery = memory['Imagery']/27\n",
    "intentional = memory['Intentional']/27"
   ]
  },
  {
   "cell_type": "code",
   "execution_count": 6,
   "id": "d9f313d0-abfa-46c9-87b8-b1603d5dc088",
   "metadata": {
    "deletable": false,
    "editable": false,
    "nbgrader": {
     "cell_type": "code",
     "checksum": "fe5de9982249e9c59c3f2cfc4b1ab338",
     "grade": true,
     "grade_id": "cell-e709539c2e207638",
     "locked": true,
     "points": 2,
     "schema_version": 3,
     "solution": false,
     "task": false
    },
    "tags": []
   },
   "outputs": [],
   "source": [
    "assert np.max(counting) <= 1\n",
    "assert np.max(rhyming) <= 1\n",
    "assert np.max(adjective) <= 1\n",
    "assert np.max(imagery) <= 1\n",
    "assert np.max(intentional) <= 1"
   ]
  },
  {
   "cell_type": "markdown",
   "id": "0dd2d50e-46c4-4d15-909c-08b78082f352",
   "metadata": {
    "deletable": false,
    "editable": false,
    "nbgrader": {
     "cell_type": "markdown",
     "checksum": "508be91821f2556fb4bdd01531707457",
     "grade": false,
     "grade_id": "cell-564ef724e61fcdc8",
     "locked": true,
     "schema_version": 3,
     "solution": false,
     "task": false
    },
    "tags": []
   },
   "source": [
    "### 3. Create a variable **task_score** that contains the mean score for each task across all participants. Create a variable **task_score_old** that contain the mean score for each task for only the *Older* subjects.  Create a variable **task_score_young** that contains the mean score for each task for the *Younger* subjects.  "
   ]
  },
  {
   "cell_type": "code",
   "execution_count": 7,
   "id": "843bb7b0-b792-4fbe-837a-f782503d6757",
   "metadata": {
    "deletable": false,
    "nbgrader": {
     "cell_type": "code",
     "checksum": "abf189716ce1a0afe019d70f59c5c58e",
     "grade": false,
     "grade_id": "cell-ff8abb604d07e084",
     "locked": false,
     "schema_version": 3,
     "solution": true,
     "task": false
    },
    "tags": []
   },
   "outputs": [],
   "source": [
    "task_score = [np.mean(counting), np.mean(rhyming), np.mean(adjective), np.mean(imagery), np.mean(intentional)]\n",
    "task_score_old = [np.mean(counting[10:20]), np.mean(rhyming[10:20]), np.mean(adjective[10:20]), np.mean(imagery[10:20]), np.mean(intentional[10:20])]\n",
    "task_score_young = [np.mean(counting[0:10]), np.mean(rhyming[0:10]), np.mean(adjective[0:10]), np.mean(imagery[0:10]), np.mean(intentional[0:10])]"
   ]
  },
  {
   "cell_type": "code",
   "execution_count": 8,
   "id": "1ffe484a-78ee-4fa5-9754-b01e1447d5c5",
   "metadata": {
    "deletable": false,
    "editable": false,
    "nbgrader": {
     "cell_type": "code",
     "checksum": "0ccce9744f79439049a08d44737aeb42",
     "grade": true,
     "grade_id": "cell-15518e9d2841cd22",
     "locked": true,
     "points": 3,
     "schema_version": 3,
     "solution": false,
     "task": false
    },
    "tags": []
   },
   "outputs": [],
   "source": [
    "assert np.argmax(task_score) == 4\n",
    "assert np.argmax(task_score_young) == 4"
   ]
  },
  {
   "cell_type": "markdown",
   "id": "bbfafccb-f620-45ee-973c-3be4c4ee775a",
   "metadata": {
    "deletable": false,
    "editable": false,
    "nbgrader": {
     "cell_type": "markdown",
     "checksum": "7673f4550d9756d019e4773995d256cb",
     "grade": false,
     "grade_id": "cell-b4ca97ec45d51dfe",
     "locked": true,
     "schema_version": 3,
     "solution": false,
     "task": false
    },
    "tags": []
   },
   "source": [
    "## Tutorial: Controlling plot color, line style and markerstyle\n",
    "\n",
    "#### When using plot multiple times you must use a different color, linestyle and or markerstyle.  \n",
    "#### By default python will use the same solid line style in different colors.  \n",
    "#### Its useful to be able to take control of this.  \n",
    "#### Generally, the structure of a call to plot should like this\n",
    "### `plt.plot(x,y,style,label = 'MyData')`\n",
    "#### For example to get a green solid line i would call \n",
    "### `plt.plot(x,y,'g-',label='GREEN SOLID')`\n",
    "#### For example to get a magenta dashed line i would call \n",
    "### `plt.plot(x,y,'g-',label='MAGENTA DASHED')`\n",
    "#### For example, to get red circles I would make a call like \n",
    "### `plt.plot(x,y,'ro',label='RED CIRCLES')`\n",
    "#### Or to get black diamonds, I Would call with  \n",
    "### `plt.plot(x,y,'kD',label='BLACK DIAMONDS')\n",
    "\n",
    "### What are my choices?\n",
    "### Colors - \n",
    "* blue - 'b',\n",
    "* green - 'g',\n",
    "* red - 'r',\n",
    "* cyan - 'c',\n",
    "* magenta - 'm',\n",
    "* yellow - 'y',\n",
    "* black - 'k',\n",
    "* white - 'w' \n",
    "\n",
    "### Line styles \n",
    "\n",
    "* '-' solid line \n",
    "* '--' dahsed line\n",
    "* '-.' dash dot line\n",
    "* ':'  dotted line \n",
    "\n",
    "### Marker shapes \n",
    "* '.'- point\n",
    "* 'o' - circle\n",
    "* 'x' - x marker \n",
    "* 'D' = diamond marker\n",
    "* 'H' - hexagon marker \n",
    "* 's' - square marker\n",
    "* '+' plus marker \n",
    "\n",
    "![alt text](old_v_young.png \"An example result plot\")\n"
   ]
  },
  {
   "cell_type": "markdown",
   "id": "447d0e7f-2a58-4ac4-a351-1988592b9f70",
   "metadata": {
    "deletable": false,
    "editable": false,
    "nbgrader": {
     "cell_type": "markdown",
     "checksum": "d1bab531a1818e14a7c07e3334128ad3",
     "grade": false,
     "grade_id": "cell-cc4fe98066a870b7",
     "locked": true,
     "schema_version": 3,
     "solution": false,
     "task": false
    },
    "tags": []
   },
   "source": [
    "### 4. Make a figure showing the results of the experiment in 1 graph like the above. To do this I am going to ask you to use both ax.bar and ax.plot in the same figure.  \n",
    "#### (Hint: When making the plot, use a temporary variable condition = [1,2,3,4,5] as your x axis variable.  Then use ax.set_xticks to make text labels. \n",
    "1. #### Use ax.bar to plot **task_score**.  You can add a label to the bars, as label = 'All'\n",
    "2. #### Use ax.plot to plot **task_score_old** and **task_score_young**, use a label in each plot call, as label = 'Older', and label = 'Younger'. For each group you must specify a different color, linestyle and or markerstyle. \n",
    "3. #### The figure should have a legend which labels the bars as 'All'  and the two marker/line as 'Younger' and 'Older'\n",
    "4. #### The figure should have an y-axis label 'Accuracy'\n",
    "5. #### The figure should have an x-axis label 'Study Condition'\n",
    "6. #### The figure should have an x tick labels which labels each study condition. (Hint: Make a list of the study conditions) \n",
    "\n"
   ]
  },
  {
   "cell_type": "code",
   "execution_count": 13,
   "id": "13e11746-2198-463f-b19c-b986af58d2a8",
   "metadata": {
    "deletable": false,
    "nbgrader": {
     "cell_type": "code",
     "checksum": "e4f33c4c24d71a5818287aad2a2f78d8",
     "grade": true,
     "grade_id": "cell-602de8ff0d08cc14",
     "locked": false,
     "points": 4,
     "schema_version": 3,
     "solution": true,
     "task": false
    },
    "tags": []
   },
   "outputs": [
    {
     "data": {
      "text/plain": [
       "<matplotlib.legend.Legend at 0x7fe56b7150c0>"
      ]
     },
     "execution_count": 13,
     "metadata": {},
     "output_type": "execute_result"
    },
    {
     "data": {
      "image/png": "[encoded data removed]",
      "text/plain": [
       "<Figure size 640x480 with 1 Axes>"
      ]
     },
     "metadata": {},
     "output_type": "display_data"
    }
   ],
   "source": [
    "fig = plt.figure()   #creates a blank canvas \n",
    "ax = fig.add_axes([0,0,1,1]) #creates an axes - (starting pt x, starting pt y, fractional size x, fractional size y)\n",
    "\n",
    "conditions = ['Counting', 'Rhyming', 'Adjective', 'Imagery', 'Intentional']\n",
    "\n",
    "ax.bar(conditions, task_score, label = \"All\")\n",
    "ax.plot(conditions, task_score_old, 'rD', label = \"Old\")\n",
    "ax.plot(conditions, task_score_young, 'gs',label = \"Young\")\n",
    "\n",
    "ax.set_xlabel('Study Condition')\n",
    "ax.set_ylabel('Accuracy')\n",
    "ax.legend()"
   ]
  },
  {
   "cell_type": "code",
   "execution_count": null,
   "id": "a0402a57-281c-4bc5-a92a-6cc43cfd73d7",
   "metadata": {},
   "outputs": [],
   "source": []
  },
  {
   "cell_type": "code",
   "execution_count": null,
   "id": "c2e83d88-67a3-4636-8621-2591d9c7945d",
   "metadata": {},
   "outputs": [],
   "source": []
  },
  {
   "cell_type": "code",
   "execution_count": null,
   "id": "b49797a0-28cb-473f-92e3-6a2d57a929a3",
   "metadata": {},
   "outputs": [],
   "source": []
  }
 ],
 "metadata": {
  "kernelspec": {
   "display_name": "Python 3 (ipykernel)",
   "language": "python",
   "name": "python3"
  },
  "language_info": {
   "codemirror_mode": {
    "name": "ipython",
    "version": 3
   },
   "file_extension": ".py",
   "mimetype": "text/x-python",
   "name": "python",
   "nbconvert_exporter": "python",
   "pygments_lexer": "ipython3",
   "version": "3.10.9"
  }
 },
 "nbformat": 4,
 "nbformat_minor": 5
}
