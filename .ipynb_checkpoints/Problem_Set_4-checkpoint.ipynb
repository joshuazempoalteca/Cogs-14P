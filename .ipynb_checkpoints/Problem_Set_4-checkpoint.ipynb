{
 "cells": [
  {
   "cell_type": "markdown",
   "id": "12e65b8e",
   "metadata": {},
   "source": [
    "Before you turn this problem in, make sure everything runs as expected. First, **restart the kernel** (in the menubar, select Kernel$\\rightarrow$Restart) and then **run all cells** (in the menubar, select Cell$\\rightarrow$Run All).\n",
    "\n",
    "Make sure you fill in any place that says `YOUR CODE HERE` or \"YOUR ANSWER HERE\", as well as your name and collaborators below:"
   ]
  },
  {
   "cell_type": "code",
   "execution_count": null,
   "id": "4e18dcfb",
   "metadata": {},
   "outputs": [],
   "source": [
    "NAME = \"Joshua Zempoalteca\"\n",
    "COLLABORATORS = \"N/A\""
   ]
  },
  {
   "cell_type": "markdown",
   "id": "fefe46bb",
   "metadata": {},
   "source": [
    "---"
   ]
  },
  {
   "cell_type": "markdown",
   "id": "f560cb29-5c26-472a-bc56-ed82e9cc5f32",
   "metadata": {
    "deletable": false,
    "editable": false,
    "nbgrader": {
     "cell_type": "markdown",
     "checksum": "c71ca12c06b6cb37ba11278f743a7130",
     "grade": false,
     "grade_id": "cell-15402df317878011",
     "locked": true,
     "schema_version": 3,
     "solution": false,
     "task": false
    },
    "tags": []
   },
   "source": [
    "# **Problem Set 4** Execution Control \n",
    "### This is a problem set. You can work on it with the help of your classmates, Google, or ask me any questions you would like.\n",
    "### I encourage discussion during these problem sets. Todays problem set is relatively short.\n",
    "### The problem set is due at 2:50 pm. "
   ]
  },
  {
   "cell_type": "code",
   "execution_count": 1,
   "id": "5b487076-710f-4572-a17f-fe9570c93ca4",
   "metadata": {},
   "outputs": [],
   "source": [
    "import numpy as np\n",
    "from numpy import random "
   ]
  },
  {
   "cell_type": "markdown",
   "id": "84770280-7249-43ee-af0d-d97c54e67261",
   "metadata": {
    "deletable": false,
    "editable": false,
    "nbgrader": {
     "cell_type": "markdown",
     "checksum": "5f9ec69d4eac76abbbd20790051ebf0d",
     "grade": false,
     "grade_id": "cell-0d9df36e4e569116",
     "locked": true,
     "schema_version": 3,
     "solution": false,
     "task": false
    },
    "tags": []
   },
   "source": [
    "### 1.The factorial of an integer is the product of the all the integers starting from the integer going down to one.  So, for example, in math we usually write \n",
    "### $ n!  = n * (n-1) * (n-2)....2 * 1 $\n",
    "### for example, 5! = 5 * 4 * 3 * 2 * 1 = 120 \n",
    "### of course in any real program, we would use np.math.factorial(n) to compute the factorial of an integer n. \n",
    "### But, we are here to suffer and learn.  \n",
    "### Write a `while` loop to compute the factorial of any integer **n**, and save that output in a variable called **fact** "
   ]
  },
  {
   "cell_type": "code",
   "execution_count": 8,
   "id": "5333e7b6-9da4-4680-8b53-bd916934d1da",
   "metadata": {
    "deletable": false,
    "nbgrader": {
     "cell_type": "code",
     "checksum": "e3f0d2c02ff6f7598a3872944b920250",
     "grade": false,
     "grade_id": "cell-2db16ee01ff4f885",
     "locked": false,
     "schema_version": 3,
     "solution": true,
     "task": false
    },
    "tags": []
   },
   "outputs": [
    {
     "name": "stdout",
     "output_type": "stream",
     "text": [
      "120\n"
     ]
    }
   ],
   "source": [
    "n = 5 \n",
    "fact = 1\n",
    "\n",
    "while n > 1:\n",
    "    fact *= n\n",
    "    n -= 1\n",
    "print(fact)"
   ]
  },
  {
   "cell_type": "code",
   "execution_count": 7,
   "id": "456aff5b-0bfa-44ce-b8bd-4b1b64fcb7ca",
   "metadata": {
    "deletable": false,
    "editable": false,
    "nbgrader": {
     "cell_type": "code",
     "checksum": "45adb2f8e05dd9714d004274c169f2c1",
     "grade": true,
     "grade_id": "cell-5e2489665ee39ae7",
     "locked": true,
     "points": 3,
     "schema_version": 3,
     "solution": false,
     "task": false
    },
    "tags": []
   },
   "outputs": [],
   "source": [
    "assert fact == np.math.factorial(5) "
   ]
  },
  {
   "cell_type": "markdown",
   "id": "b9bd981b-a4fe-49a9-b7a6-d45dcf9fef32",
   "metadata": {
    "deletable": false,
    "editable": false,
    "nbgrader": {
     "cell_type": "markdown",
     "checksum": "0290c35d3e266e20fd091562c9dbbcb7",
     "grade": false,
     "grade_id": "cell-3f923b3785ccd52c",
     "locked": true,
     "schema_version": 3,
     "solution": false,
     "task": false
    },
    "tags": []
   },
   "source": [
    "### 2. Given the lengths of 3 sides of a triangle - x, y and z - use a statement of the type (`if`-`elif`-`else`) to determine whether the triangle is 'equilateral', 'isosceles' or 'obtuse' and set the variable **triangle** to the correct string value\n",
    "### Note: equilateral means all sides are equal, isosceles means two of the sides are equal but not the third one, obtuse means all 3 sides are different.\n",
    "### There is no preferred way to do this problem, and there are many possible solutions. \n",
    "### Note that i have created 3 test cases here. The code should be the identical for all 3 cases and produce the correct answer, and you should just copy and paste the same code.  \n",
    "### When testing a piece of code, you should always test that all possible cases work. "
   ]
  },
  {
   "cell_type": "code",
   "execution_count": 11,
   "id": "ea0b24b3-2eca-4ff4-bec1-a2d4a6a15ca1",
   "metadata": {
    "deletable": false,
    "nbgrader": {
     "cell_type": "code",
     "checksum": "8de0e83aeba1eec0e580b6a130affe1e",
     "grade": false,
     "grade_id": "cell-fbe274a9b7384feb",
     "locked": false,
     "schema_version": 3,
     "solution": true,
     "task": false
    },
    "tags": []
   },
   "outputs": [],
   "source": [
    "x = 6 \n",
    "y = 7\n",
    "z = 7\n",
    "\n",
    "if (x == y):\n",
    "    if x == z:\n",
    "        triangle = 'equilateral'\n",
    "    else:\n",
    "        triangle = 'isosceles'\n",
    "elif (x == z):\n",
    "    if x == y:\n",
    "        triangle = 'equilateral'\n",
    "    else:\n",
    "        triangle = 'isosceles'\n",
    "elif (y == z):\n",
    "    if y == x:\n",
    "        triangle = 'equilateral'\n",
    "    else:\n",
    "        triangle = 'isosceles'\n",
    "else:\n",
    "    triangle = 'obtuse'"
   ]
  },
  {
   "cell_type": "code",
   "execution_count": 12,
   "id": "eb1a18b9-68a5-4554-bc1a-cb9d8ec7de49",
   "metadata": {
    "deletable": false,
    "editable": false,
    "nbgrader": {
     "cell_type": "code",
     "checksum": "091eaf6c10a6e77bc0b626f4aa869188",
     "grade": true,
     "grade_id": "cell-a014d87e7e27b765",
     "locked": true,
     "points": 1,
     "schema_version": 3,
     "solution": false,
     "task": false
    },
    "tags": []
   },
   "outputs": [],
   "source": [
    "assert triangle == 'isosceles'"
   ]
  },
  {
   "cell_type": "code",
   "execution_count": 13,
   "id": "11f3e5c0-05ad-41b9-a97f-b61ea65c569e",
   "metadata": {
    "deletable": false,
    "nbgrader": {
     "cell_type": "code",
     "checksum": "1fb0d50024281425ea1fb6618f37dce8",
     "grade": false,
     "grade_id": "cell-052f0d28106ad644",
     "locked": false,
     "schema_version": 3,
     "solution": true,
     "task": false
    },
    "tags": []
   },
   "outputs": [],
   "source": [
    "x = 7 \n",
    "y = 7\n",
    "z = 7\n",
    "\n",
    "if (x == y):\n",
    "    if x == z:\n",
    "        triangle = 'equilateral'\n",
    "    else:\n",
    "        triangle = 'isosceles'\n",
    "elif (x == z):\n",
    "    if x == y:\n",
    "        triangle = 'equilateral'\n",
    "    else:\n",
    "        triangle = 'isosceles'\n",
    "elif (y == z):\n",
    "    if y == x:\n",
    "        triangle = 'equilateral'\n",
    "    else:\n",
    "        triangle = 'isosceles'\n",
    "else:\n",
    "    triangle = 'obtuse'"
   ]
  },
  {
   "cell_type": "code",
   "execution_count": 14,
   "id": "899272ca-a492-46f8-bc3a-6a436b6824a3",
   "metadata": {
    "deletable": false,
    "editable": false,
    "nbgrader": {
     "cell_type": "code",
     "checksum": "d22a8555d515df7efd63208e9fd9a83d",
     "grade": true,
     "grade_id": "cell-39b6b44e41742e02",
     "locked": true,
     "points": 1,
     "schema_version": 3,
     "solution": false,
     "task": false
    },
    "tags": []
   },
   "outputs": [],
   "source": [
    "assert triangle == 'equilateral'"
   ]
  },
  {
   "cell_type": "code",
   "execution_count": 15,
   "id": "b096c955-a7ee-41e1-adc6-8b6793a4a3c3",
   "metadata": {
    "deletable": false,
    "nbgrader": {
     "cell_type": "code",
     "checksum": "27f9b6e4beff3ddb05e8e0b2354df5db",
     "grade": false,
     "grade_id": "cell-89074cd7c92bfe45",
     "locked": false,
     "schema_version": 3,
     "solution": true,
     "task": false
    },
    "tags": []
   },
   "outputs": [],
   "source": [
    "x = 6 \n",
    "y = 7\n",
    "z = 8\n",
    "\n",
    "if (x == y):\n",
    "    if x == z:\n",
    "        triangle = 'equilateral'\n",
    "    else:\n",
    "        triangle = 'isosceles'\n",
    "elif (x == z):\n",
    "    if x == y:\n",
    "        triangle = 'equilateral'\n",
    "    else:\n",
    "        triangle = 'isosceles'\n",
    "elif (y == z):\n",
    "    if y == x:\n",
    "        triangle = 'equilateral'\n",
    "    else:\n",
    "        triangle = 'isosceles'\n",
    "else:\n",
    "    triangle = 'obtuse'"
   ]
  },
  {
   "cell_type": "code",
   "execution_count": 16,
   "id": "b4d2ae48-c163-44f8-9d77-04793d5d6612",
   "metadata": {
    "deletable": false,
    "editable": false,
    "nbgrader": {
     "cell_type": "code",
     "checksum": "71684a18165de599512f88d66b7cc78b",
     "grade": true,
     "grade_id": "cell-fa97d8e69f6e66bc",
     "locked": true,
     "points": 1,
     "schema_version": 3,
     "solution": false,
     "task": false
    },
    "tags": []
   },
   "outputs": [],
   "source": [
    "assert triangle == 'obtuse'"
   ]
  },
  {
   "cell_type": "markdown",
   "id": "b87fbb0c-66e9-4519-bcb7-8ec9c974abf2",
   "metadata": {
    "deletable": false,
    "editable": false,
    "nbgrader": {
     "cell_type": "markdown",
     "checksum": "5d9a4864f84b9af7df1efa031367dc00",
     "grade": false,
     "grade_id": "cell-2fd31d554b8abbe9",
     "locked": true,
     "schema_version": 3,
     "solution": false,
     "task": false
    },
    "tags": []
   },
   "source": [
    "### 3.  Write a program that finds all the factors of a number **n** (positive integer) and saves them to a list called **factors**. If the number is prime, set a variable **isprime** to True, otherwise **isprime** is false\n",
    "### An integer **m** is a factor of **n** if **n**/**m** is an integer (no remainder).  Hint: the % operator computes the remainder when dividing integers.\n",
    "### There are two test cases to run.  Use the identical code for both test cases.  "
   ]
  },
  {
   "cell_type": "code",
   "execution_count": 36,
   "id": "cdec158e-a56b-4d27-9ee3-28ed6ffe0411",
   "metadata": {
    "deletable": false,
    "nbgrader": {
     "cell_type": "code",
     "checksum": "f7b57c78d9a8ce3be9a887ebb0c8d2f1",
     "grade": false,
     "grade_id": "cell-60545d34375ada7a",
     "locked": false,
     "schema_version": 3,
     "solution": true,
     "task": false
    },
    "tags": []
   },
   "outputs": [],
   "source": [
    "#Test case 1\n",
    "n = 99 \n",
    "\n",
    "factors = []\n",
    "isprime = True\n",
    "\n",
    "for i in range(1, n+1):\n",
    "    m = n%i\n",
    "    if m == 0:\n",
    "        factors.append(i)\n",
    "        if i != 1 and i != n:\n",
    "            isprime = False"
   ]
  },
  {
   "cell_type": "code",
   "execution_count": 37,
   "id": "f1ee0544-b58c-48a7-a4b2-da60e9fc5b67",
   "metadata": {
    "deletable": false,
    "editable": false,
    "nbgrader": {
     "cell_type": "code",
     "checksum": "91e9fbc4e5e9b47fed5f5f2f5ae04978",
     "grade": true,
     "grade_id": "cell-232887bca53c71e8",
     "locked": true,
     "points": 2,
     "schema_version": 3,
     "solution": false,
     "task": false
    },
    "tags": []
   },
   "outputs": [],
   "source": [
    "assert isprime == False\n",
    "assert len(factors) == 6"
   ]
  },
  {
   "cell_type": "code",
   "execution_count": 38,
   "id": "16d70317-f788-4e11-b4f2-de8a98f44b0b",
   "metadata": {
    "deletable": false,
    "nbgrader": {
     "cell_type": "code",
     "checksum": "11ec87852030a2e8e4574c7534e2b03c",
     "grade": false,
     "grade_id": "cell-71e094f10279b9d0",
     "locked": false,
     "schema_version": 3,
     "solution": true,
     "task": false
    },
    "tags": []
   },
   "outputs": [],
   "source": [
    "#Test Case 2\n",
    "n = 83\n",
    "\n",
    "factors = []\n",
    "isprime = True\n",
    "\n",
    "for i in range(1, n+1):\n",
    "    m = n%i\n",
    "    if m == 0:\n",
    "        factors.append(i)\n",
    "        if i != 1 and i != n:\n",
    "            isprime = False"
   ]
  },
  {
   "cell_type": "code",
   "execution_count": 39,
   "id": "7a91fe39-06c2-4f15-8a34-56ed49f4db44",
   "metadata": {
    "deletable": false,
    "editable": false,
    "nbgrader": {
     "cell_type": "code",
     "checksum": "b2db3f99c37efab2e7c96af184c2963c",
     "grade": true,
     "grade_id": "cell-1763a18efe2f06e3",
     "locked": true,
     "points": 2,
     "schema_version": 3,
     "solution": false,
     "task": false
    },
    "tags": []
   },
   "outputs": [],
   "source": [
    "assert isprime == True\n",
    "assert len(factors) == 2"
   ]
  }
 ],
 "metadata": {
  "kernelspec": {
   "display_name": "Python 3 (ipykernel)",
   "language": "python",
   "name": "python3"
  },
  "language_info": {
   "codemirror_mode": {
    "name": "ipython",
    "version": 3
   },
   "file_extension": ".py",
   "mimetype": "text/x-python",
   "name": "python",
   "nbconvert_exporter": "python",
   "pygments_lexer": "ipython3",
   "version": "3.10.9"
  }
 },
 "nbformat": 4,
 "nbformat_minor": 5
}
