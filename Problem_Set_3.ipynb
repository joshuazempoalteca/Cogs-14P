{
 "cells": [
  {
   "cell_type": "markdown",
   "id": "7fb2e819",
   "metadata": {},
   "source": [
    "Before you turn this problem in, make sure everything runs as expected. First, **restart the kernel** (in the menubar, select Kernel$\\rightarrow$Restart) and then **run all cells** (in the menubar, select Cell$\\rightarrow$Run All).\n",
    "\n",
    "Make sure you fill in any place that says `YOUR CODE HERE` or \"YOUR ANSWER HERE\", as well as your name and collaborators below:"
   ]
  },
  {
   "cell_type": "code",
   "execution_count": null,
   "id": "16a19633",
   "metadata": {},
   "outputs": [],
   "source": [
    "NAME = \"Joshua Zempoalteca\"\n",
    "COLLABORATORS = \"\""
   ]
  },
  {
   "cell_type": "markdown",
   "id": "d88ecd83",
   "metadata": {},
   "source": [
    "---"
   ]
  },
  {
   "cell_type": "markdown",
   "id": "637b2640-bda0-4622-8ef9-513c7ebf444f",
   "metadata": {
    "deletable": false,
    "editable": false,
    "nbgrader": {
     "cell_type": "markdown",
     "checksum": "1c5e1f706b9a7bd8b9e067c0e79e9f14",
     "grade": false,
     "grade_id": "cell-ed3ef8f970d38d21",
     "locked": true,
     "schema_version": 3,
     "solution": false,
     "task": false
    },
    "tags": []
   },
   "source": [
    "# **Problem Set 3** While and For Loops\n",
    "### This is a problem set.  You can work on it with the help of your classmates, Google, or ask me any questions you would like. \n",
    "### I encourage discussion during these problem sets.  Todays problem set is relatively short.  \n",
    "### The problem set is due at 2:40 pm.  We will spend the last 10 minutes of class briefly looking over my answers. "
   ]
  },
  {
   "cell_type": "code",
   "execution_count": 1,
   "id": "51a2aa38-b471-45b2-a91d-120c945e0542",
   "metadata": {},
   "outputs": [],
   "source": [
    "import numpy as np\n",
    "from numpy import random \n",
    "from matplotlib import pyplot as plt"
   ]
  },
  {
   "cell_type": "markdown",
   "id": "7ad51b50-6554-4a17-b2f4-7ceb10d23a00",
   "metadata": {
    "deletable": false,
    "editable": false,
    "nbgrader": {
     "cell_type": "markdown",
     "checksum": "5acafaa619144fccaa60399439a8c580",
     "grade": false,
     "grade_id": "cell-b0334a88e22d5f02",
     "locked": true,
     "schema_version": 3,
     "solution": false,
     "task": false
    },
    "tags": []
   },
   "source": [
    "### 1.  Write a for loop that will print out the name of each animal in the list.  The number of items in the list should be called **nanimals** and obtained by using the length `len` function.  "
   ]
  },
  {
   "cell_type": "code",
   "execution_count": 22,
   "id": "44783433-dc6f-4c4f-a234-b54af7dcf406",
   "metadata": {
    "deletable": false,
    "nbgrader": {
     "cell_type": "code",
     "checksum": "df06a34be11c0042ed8ac3b9d9893208",
     "grade": false,
     "grade_id": "cell-8c32f649996e6487",
     "locked": false,
     "schema_version": 3,
     "solution": true,
     "task": false
    },
    "tags": []
   },
   "outputs": [
    {
     "name": "stdout",
     "output_type": "stream",
     "text": [
      "koala\n",
      "cat\n",
      "fox\n",
      "panda\n",
      "chipmunk\n",
      "sloth\n",
      "penguin\n",
      "dolphin\n"
     ]
    }
   ],
   "source": [
    "animals =[\"koala\", \"cat\", \"fox\", \"panda\", \"chipmunk\", \"sloth\", \"penguin\", \"dolphin\"]\n",
    "naminals = 0\n",
    "for i in range(len(animals)):\n",
    "    print(animals[i])\n",
    "    naminals += 1\n"
   ]
  },
  {
   "cell_type": "code",
   "execution_count": 23,
   "id": "94b0aabc-6f6b-4a8e-a6fb-c02c80879779",
   "metadata": {
    "deletable": false,
    "editable": false,
    "nbgrader": {
     "cell_type": "code",
     "checksum": "008700f9f1b2b19e3a07135efa6432b6",
     "grade": true,
     "grade_id": "cell-fe6280b80828dea5",
     "locked": true,
     "points": 2,
     "schema_version": 3,
     "solution": false,
     "task": false
    },
    "tags": []
   },
   "outputs": [],
   "source": [
    "assert len(animals) == 8"
   ]
  },
  {
   "cell_type": "markdown",
   "id": "b12a7cf6-9e97-4f2d-8c69-9afea6025d5f",
   "metadata": {
    "deletable": false,
    "editable": false,
    "nbgrader": {
     "cell_type": "markdown",
     "checksum": "e3654857b713fadf28e5904217911833",
     "grade": false,
     "grade_id": "cell-a6ac7d7339053ae2",
     "locked": true,
     "schema_version": 3,
     "solution": false,
     "task": false
    },
    "tags": []
   },
   "source": [
    "### 2. Create a list of **n** random integers (between 0 and 9), called **numbers**, using the given random number generator  **rng** \n",
    "### write a `for` loop to compute a *numpy array* **numbersum**  the cumulative sum of these numbers.  \n",
    "* ### The first element of **numbersum** is the sum of the first element of **number**.  \n",
    "* ### The second element of **numbersum** is the sum of the first 2 elements of **number**\n",
    "* ### The third element of **numbersum** is the sum of the first 3 elements of **number** \n",
    "### .... (keep going)\n",
    "### Your example should be run with **n** = 20 "
   ]
  },
  {
   "cell_type": "code",
   "execution_count": 65,
   "id": "5774a1fc-8f1c-4d53-ad71-53a0c7b918fa",
   "metadata": {
    "deletable": false,
    "nbgrader": {
     "cell_type": "code",
     "checksum": "1a7fdbeb7bba7ef2f24f4c7a1c7981b9",
     "grade": false,
     "grade_id": "cell-3ab7bdfb0565b2a5",
     "locked": false,
     "schema_version": 3,
     "solution": true,
     "task": false
    },
    "tags": []
   },
   "outputs": [],
   "source": [
    "rng = random.default_rng(seed = 1111)\n",
    "n = 20\n",
    "numbers = rng.integers(0,10,n)\n",
    "\n",
    "numbersum = np.zeros(20)\n",
    "\n",
    "for i in range(len(numbers)):\n",
    "    numbersum[i] = numbersum[i-1] + numbers[i]\n"
   ]
  },
  {
   "cell_type": "code",
   "execution_count": 67,
   "id": "a97e04e5-bba0-4642-843b-61ff7c3f3925",
   "metadata": {
    "deletable": false,
    "editable": false,
    "nbgrader": {
     "cell_type": "code",
     "checksum": "572a65270335f881625a093b157070ec",
     "grade": true,
     "grade_id": "cell-0b00e9427adcf969",
     "locked": true,
     "points": 4,
     "schema_version": 3,
     "solution": false,
     "task": false
    },
    "tags": []
   },
   "outputs": [],
   "source": [
    "assert n == 20\n",
    "assert np.size(numbers) == n\n",
    "assert np.all(numbersum == np.cumsum(numbers)) \n",
    "assert numbersum.dtype == 'float64'"
   ]
  },
  {
   "cell_type": "markdown",
   "id": "ca158e84-cd0a-4173-986f-aeba5a9c81f9",
   "metadata": {
    "deletable": false,
    "editable": false,
    "nbgrader": {
     "cell_type": "markdown",
     "checksum": "6174e919f8e4f5eab5c8ffbd25fc68ad",
     "grade": false,
     "grade_id": "cell-55fb5f740dd19462",
     "locked": true,
     "schema_version": 3,
     "solution": false,
     "task": false
    },
    "tags": []
   },
   "source": [
    "## 3. GEOMETRIC SERIES \n",
    "\n",
    "### $$ geom = \\sum_{n=1}^{\\infty}{\\frac{1}{2^n}} = \\frac{1}{2} + \\frac{1}{4} + \\frac{1}{8} + \\frac{1}{16} + .....$$\n",
    "\n",
    "### is a geometric series, that sums to 1 as **n** approaches infinity ($\\infty$). \n",
    "\n",
    "### Write a `while` loop that will keep adding terms to the sum **geom** (i.e., increasing **n**) until the increase in the value of the sum  is smaller than a user-specified value (**tol**).  \n",
    "### For your test code, use tol = 0.0001\n",
    "\n",
    "### The code should return the number of terms **n** in the sum, and a variable called **error** which is the difference between **geom** and 1.   \n",
    "### Hint: there should be a variable tested against **tol** by the while loop and updated on each iteration of the loop. "
   ]
  },
  {
   "cell_type": "code",
   "execution_count": 70,
   "id": "94389782-0ed2-40d2-abd8-086d85a1eab4",
   "metadata": {
    "deletable": false,
    "nbgrader": {
     "cell_type": "code",
     "checksum": "c401b6478d92ad68dfdea63fbba036b4",
     "grade": false,
     "grade_id": "cell-a076f6a85f9e3f7f",
     "locked": false,
     "schema_version": 3,
     "solution": true,
     "task": false
    },
    "tags": []
   },
   "outputs": [],
   "source": [
    "tol = 0.0001\n",
    "\n",
    "geom = 0\n",
    "n = 0\n",
    "error = 1\n",
    "\n",
    "# Compute the sum until the error is smaller than the tolerance\n",
    "while abs(error) > tol:\n",
    "    n += 1\n",
    "    term = 1/(2**n)\n",
    "    geom += term\n",
    "    error = geom - 1\n",
    "    "
   ]
  },
  {
   "cell_type": "code",
   "execution_count": 71,
   "id": "1b78fc1b-d600-4a4f-b693-9c0b5fc3203b",
   "metadata": {
    "deletable": false,
    "editable": false,
    "nbgrader": {
     "cell_type": "code",
     "checksum": "380225c18c9092c23d10320c16314381",
     "grade": true,
     "grade_id": "cell-889b5403193aac70",
     "locked": true,
     "points": 4,
     "schema_version": 3,
     "solution": false,
     "task": false
    },
    "tags": []
   },
   "outputs": [],
   "source": [
    "assert np.abs(error) < 1E-04\n",
    "assert n == 14"
   ]
  },
  {
   "cell_type": "code",
   "execution_count": null,
   "id": "f7515f3b-afa7-46d7-ade0-b64e5fdb53b7",
   "metadata": {},
   "outputs": [],
   "source": []
  }
 ],
 "metadata": {
  "kernelspec": {
   "display_name": "Python 3 (ipykernel)",
   "language": "python",
   "name": "python3"
  },
  "language_info": {
   "codemirror_mode": {
    "name": "ipython",
    "version": 3
   },
   "file_extension": ".py",
   "mimetype": "text/x-python",
   "name": "python",
   "nbconvert_exporter": "python",
   "pygments_lexer": "ipython3",
   "version": "3.10.9"
  }
 },
 "nbformat": 4,
 "nbformat_minor": 5
}
