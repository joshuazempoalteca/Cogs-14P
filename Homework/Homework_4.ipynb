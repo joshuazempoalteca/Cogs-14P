{
 "cells": [
  {
   "cell_type": "markdown",
   "id": "a13e67d3",
   "metadata": {},
   "source": [
    "Before you turn this problem in, make sure everything runs as expected. First, **restart the kernel** (in the menubar, select Kernel$\\rightarrow$Restart) and then **run all cells** (in the menubar, select Cell$\\rightarrow$Run All).\n",
    "\n",
    "Make sure you fill in any place that says `YOUR CODE HERE` or \"YOUR ANSWER HERE\", as well as your name and collaborators below:"
   ]
  },
  {
   "cell_type": "code",
   "execution_count": null,
   "id": "97d1e23e",
   "metadata": {},
   "outputs": [],
   "source": [
    "NAME = \"Joshua Zempoalteca\"\n",
    "COLLABORATORS = \"N/A\""
   ]
  },
  {
   "cell_type": "markdown",
   "id": "8b09ca37",
   "metadata": {},
   "source": [
    "---"
   ]
  },
  {
   "cell_type": "markdown",
   "id": "526ae722-3b71-4191-8944-d7ece6321f6a",
   "metadata": {},
   "source": [
    "# Homework 4\n",
    "\n",
    "## Please answer the questions below by entering and executing code in the box below each question.  \n",
    "\n",
    "## The goals of this assignment are to reinforce lessons about loops and execution control.  \n"
   ]
  },
  {
   "cell_type": "code",
   "execution_count": 1,
   "id": "d2e89d90-aa7d-45cf-8bf9-45aa379037ff",
   "metadata": {},
   "outputs": [],
   "source": [
    "import numpy as np"
   ]
  },
  {
   "cell_type": "markdown",
   "id": "2aea3e4a-abc4-4739-8742-8bd168353d0c",
   "metadata": {},
   "source": [
    "### 1. Grading Problem.  \n",
    "### I suck at using Canvas or even Excel, and really at anything where I cant write some code to solve my problems.   \n",
    "### So, I am going to have to write some code to compute your final grades for the class, and convert it to a letter grade. \n",
    "### Your grade is based on 4 categories - \n",
    "* #### Classwork 20% \n",
    "* #### Tests 30%\n",
    "* #### Homework 30%\n",
    "* #### Final Project 20%\n",
    "### As an example here are the grades for 5 students in each cateory\n",
    "* classwork = [80, 95, 85, 55, 95]\n",
    "* tests = [75, 90,90, 70,95]\n",
    "* homework = [100, 90,95,90,95]\n",
    "* project = [90,85,100,70,100]\n",
    "### (1) Write code to compute the final grade for each student using the percentages given above in a list or array called **finalgrade**. \n",
    "### (2) Convert the final grade to a letter grade for each student in a list called **lettergrade**. Use the following rule to convert the grades - \n",
    "* finalgrade >= 90   A \n",
    "* finalgrade >= 80   B\n",
    "* finalgrade >= 70   C\n",
    "* finalgrade < 70    F \n"
   ]
  },
  {
   "cell_type": "code",
   "execution_count": 6,
   "id": "40653342-e5be-4e7d-9567-2717b2be847c",
   "metadata": {},
   "outputs": [],
   "source": [
    "classwork = [80, 95, 85, 55, 95]\n",
    "tests = [75, 90,90, 70,95]\n",
    "homework = [100, 90,95,90,95]\n",
    "project = [90,85,100,70,100]"
   ]
  },
  {
   "cell_type": "code",
   "execution_count": 26,
   "id": "9108bb0e-dc70-4492-957e-0171390161b8",
   "metadata": {
    "deletable": false,
    "nbgrader": {
     "cell_type": "code",
     "checksum": "159a05a59301ca6b903e90099bbf1cfe",
     "grade": false,
     "grade_id": "cell-1878b9d5af44d167",
     "locked": false,
     "schema_version": 3,
     "solution": true,
     "task": false
    },
    "tags": []
   },
   "outputs": [],
   "source": [
    "finalgrade = []\n",
    "\n",
    "for student in range(len(classwork)):\n",
    "    finalgrade.append((classwork[student] * .20) + (tests[student] * .30) + (homework[student] * .30) + (project[student] * .20))\n",
    "\n",
    "lettergrade = []\n",
    "    \n",
    "for grade in range(len(finalgrade)):\n",
    "    if finalgrade[grade] >= 70 and finalgrade[grade] < 80:\n",
    "        lettergrade.append('C')\n",
    "    elif finalgrade[grade] >= 80 and finalgrade[grade] < 90:\n",
    "        lettergrade.append('B')\n",
    "    elif finalgrade[grade] >= 90:\n",
    "        lettergrade.append('A')\n",
    "    else:\n",
    "        lettergrade.append('F')"
   ]
  },
  {
   "cell_type": "code",
   "execution_count": 27,
   "id": "a89a2603-3130-411b-b465-5b0d0f0404d2",
   "metadata": {
    "deletable": false,
    "editable": false,
    "nbgrader": {
     "cell_type": "code",
     "checksum": "a0b9544a096b182be06c0e51d47dd19f",
     "grade": true,
     "grade_id": "cell-072d960d9255fdab",
     "locked": true,
     "points": 1,
     "schema_version": 3,
     "solution": false,
     "task": false
    },
    "tags": []
   },
   "outputs": [],
   "source": [
    "assert finalgrade[0] == 86.5 \n",
    "assert np.max(finalgrade) == 96"
   ]
  },
  {
   "cell_type": "code",
   "execution_count": 21,
   "id": "cdf7f928-1007-48b7-b6c0-a6e408451071",
   "metadata": {
    "deletable": false,
    "editable": false,
    "nbgrader": {
     "cell_type": "code",
     "checksum": "41692d3c489d1e1a5efebdd9d799f81f",
     "grade": true,
     "grade_id": "cell-0ed36a7abaaf1378",
     "locked": true,
     "points": 2,
     "schema_version": 3,
     "solution": false,
     "task": false
    },
    "tags": []
   },
   "outputs": [],
   "source": [
    "assert lettergrade[1] == 'A'"
   ]
  },
  {
   "cell_type": "markdown",
   "id": "74bdf7b2-f807-449c-8fe8-dcfff1122f95",
   "metadata": {},
   "source": [
    "### 2. COLLATZ CONJECTURE\n",
    "\n",
    "### This is one of these weird things with numbers that remains unproven, but always works. Collatz had this insight in 1939, but could not prove it, hence it is a conjecture. \n",
    "### Start with any positive integer **n**.   **n** should be the first element of your list. \n",
    "### Follow this rule: \n",
    "### (1) if the integer is even, the next integer is one half of the current integer. \n",
    "### (2) if the integer is odd, the next integer is 3 times the integer plus one. \n",
    "### Eventually the sequence of integers will reach 1. This always works! \n",
    "### Write some python code that generates such a sequence, and terminates at 1. Some hints. \n",
    "### (1) A while loop should test if the current state of the integer, and exit the loop once the sequence of integers has reached 1. \n",
    "### (2) Remember that the conditional statement n%2 == 0 will return **True** if n is even and **False** if n is odd.\n",
    "### You code should save the sequence of integers in a list called **coll** \n",
    "### For the test case, we will start with **n** = 7\n"
   ]
  },
  {
   "cell_type": "code",
   "execution_count": 24,
   "id": "7f52b296-bafc-4c82-98c5-af579ae84f2e",
   "metadata": {
    "deletable": false,
    "nbgrader": {
     "cell_type": "code",
     "checksum": "db8af7533d2b45306ef59bdb54ac8225",
     "grade": false,
     "grade_id": "cell-ed0c8fa36ef11a33",
     "locked": false,
     "schema_version": 3,
     "solution": true,
     "task": false
    },
    "tags": []
   },
   "outputs": [],
   "source": [
    "n = 7\n",
    "\n",
    "coll = [n] \n",
    "\n",
    "while n != 1:\n",
    "    if n%2 == 0:\n",
    "        n = n // 2  \n",
    "    else:\n",
    "        n = 3 * n + 1\n",
    "    coll.append(n)  "
   ]
  },
  {
   "cell_type": "code",
   "execution_count": 25,
   "id": "5b57acff-3307-4aa2-bfa8-878922a035db",
   "metadata": {
    "deletable": false,
    "editable": false,
    "nbgrader": {
     "cell_type": "code",
     "checksum": "9716d0a3369a185dd5155ff401f6d319",
     "grade": true,
     "grade_id": "cell-7853de86aa0f8d23",
     "locked": true,
     "points": 3,
     "schema_version": 3,
     "solution": false,
     "task": false
    },
    "tags": []
   },
   "outputs": [],
   "source": [
    "assert len(coll) == 17\n",
    "assert coll[0] == 7\n",
    "assert coll[-1] == 1"
   ]
  },
  {
   "cell_type": "markdown",
   "id": "5de7c86c-541d-405b-9110-b2155e696cd5",
   "metadata": {},
   "source": [
    "### 3. Approximating $\\pi$.  There are a number of approximations to the number $\\pi$ that have been developed over the years.   \n",
    "### Leibniz's formula for approximating $\\pi$ is\n",
    "\n",
    "### $$ \\pi = 4 - 4/3 + 4/5 - 4/7 + 4/9 - 4/11 + 4/13 ....   $$\n",
    "\n",
    "### $$ \\pi = \\sum_{n=0}^{\\infty}{(-1)^n\\frac{4}{2n+1}} $$\n",
    "### Note two things to pay attention to about this sum. \n",
    "* #### The first term is equivalent to 4/1.  So, we are counting 1,3,5,7,9,11.... for the denominator.  That is where the 2*n+1 comes from \n",
    "* #### We are alternating between adding and subtracting numbers.  That is where the $(-1)^n$ comes from.    \n",
    "\n",
    "### a. Write a for loop that will approximate $\\pi$ with N = 20 terms.  Compute a variable called **error** which is the difference between the exact value of $\\pi$ and your approximation.  To get the exact value of pi from python use `np.pi` \n"
   ]
  },
  {
   "cell_type": "code",
   "execution_count": 35,
   "id": "5db81893-97b1-426e-a53c-e31a98bab94d",
   "metadata": {
    "deletable": false,
    "nbgrader": {
     "cell_type": "code",
     "checksum": "0f807c3312acb89e1cd87529bec919bc",
     "grade": false,
     "grade_id": "cell-4ca8811b9f090f7e",
     "locked": false,
     "schema_version": 3,
     "solution": true,
     "task": false
    },
    "tags": []
   },
   "outputs": [
    {
     "name": "stdout",
     "output_type": "stream",
     "text": [
      "Approximation of pi: 3.0418396189294032\n",
      "Error: 0.09975303466038987\n"
     ]
    }
   ],
   "source": [
    "N = 10\n",
    "pi_approx = 0\n",
    "for n in range(N):\n",
    "    pi_approx += (-1)**n * 4 / (2*n+1)\n",
    "\n",
    "error = np.pi - pi_approx\n",
    "print(\"Approximation of pi:\", pi_approx)\n",
    "print(\"Error:\", error)\n"
   ]
  },
  {
   "cell_type": "code",
   "execution_count": 36,
   "id": "15080399-56ce-4b6d-873c-326cf44ee182",
   "metadata": {
    "deletable": false,
    "editable": false,
    "nbgrader": {
     "cell_type": "code",
     "checksum": "39475a190cb612a3befe1919744c2029",
     "grade": true,
     "grade_id": "cell-f04759fe654a63bc",
     "locked": true,
     "points": 2,
     "schema_version": 3,
     "solution": false,
     "task": false
    },
    "tags": []
   },
   "outputs": [],
   "source": [
    "assert np.abs(error) < 0.1 "
   ]
  },
  {
   "cell_type": "markdown",
   "id": "126bd244-2eaf-4c05-8c8d-58b17c6a8777",
   "metadata": {},
   "source": [
    "### b.  Write a 'while' loop that sums the terms in Leibniz's formula for $\\pi$ until the *change* in the sum is less than a user specified value **tol**.  For your test, use **tol** = 0.01.  After you complete the 'while' loop compute the value of **error** - the difference between your approximation and the exact value of pi "
   ]
  },
  {
   "cell_type": "code",
   "execution_count": 37,
   "id": "224f5ebf-034e-4ba3-ab18-5d27f337bd89",
   "metadata": {
    "deletable": false,
    "nbgrader": {
     "cell_type": "code",
     "checksum": "ca0ad0cda0bb5d61695fe2f4dfd32019",
     "grade": false,
     "grade_id": "cell-ff3bb4f4a1331216",
     "locked": false,
     "schema_version": 3,
     "solution": true,
     "task": false
    },
    "tags": []
   },
   "outputs": [],
   "source": [
    "tol = 0.01\n",
    "\n",
    "pi_approx = 0\n",
    "n = 0\n",
    "change = 1\n",
    "\n",
    "while change >= tol:\n",
    "    term = (-1)**n * 4 / (2*n+1)\n",
    "    pi_approx += term\n",
    "    change = abs(term)\n",
    "    n += 1\n",
    "\n",
    "error = np.pi - pi_approx"
   ]
  },
  {
   "cell_type": "code",
   "execution_count": 38,
   "id": "266e8c72-9d02-4daf-9284-2541e2fa8504",
   "metadata": {
    "deletable": false,
    "editable": false,
    "nbgrader": {
     "cell_type": "code",
     "checksum": "1ea619c018318c5f23193a7388ef07af",
     "grade": true,
     "grade_id": "cell-e43486eb0e3d3cc1",
     "locked": true,
     "points": 2,
     "schema_version": 3,
     "solution": false,
     "task": false
    },
    "tags": []
   },
   "outputs": [],
   "source": [
    "assert np.abs(error) < 0.005"
   ]
  },
  {
   "cell_type": "code",
   "execution_count": null,
   "id": "64c3b4a8-ee18-4210-8da2-a0ed76142873",
   "metadata": {},
   "outputs": [],
   "source": []
  }
 ],
 "metadata": {
  "kernelspec": {
   "display_name": "Python 3 (ipykernel)",
   "language": "python",
   "name": "python3"
  },
  "language_info": {
   "codemirror_mode": {
    "name": "ipython",
    "version": 3
   },
   "file_extension": ".py",
   "mimetype": "text/x-python",
   "name": "python",
   "nbconvert_exporter": "python",
   "pygments_lexer": "ipython3",
   "version": "3.10.9"
  }
 },
 "nbformat": 4,
 "nbformat_minor": 5
}
