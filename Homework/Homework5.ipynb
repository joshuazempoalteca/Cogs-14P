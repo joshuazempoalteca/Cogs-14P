{
 "cells": [
  {
   "cell_type": "markdown",
   "metadata": {},
   "source": [
    "Before you turn this problem in, make sure everything runs as expected. First, **restart the kernel** (in the menubar, select Kernel$\\rightarrow$Restart) and then **run all cells** (in the menubar, select Cell$\\rightarrow$Run All).\n",
    "\n",
    "Make sure you fill in any place that says `YOUR CODE HERE` or \"YOUR ANSWER HERE\", as well as your name and collaborators below:"
   ]
  },
  {
   "cell_type": "code",
   "execution_count": null,
   "metadata": {},
   "outputs": [],
   "source": [
    "NAME = \"Joshua Zempoalteca\"\n",
    "COLLABORATORS = \"NA\""
   ]
  },
  {
   "cell_type": "markdown",
   "metadata": {},
   "source": [
    "---"
   ]
  },
  {
   "cell_type": "markdown",
   "metadata": {},
   "source": [
    "# Homework 5 \n",
    "\n",
    "## Practice some of the fundamentals of writing and using functions\n"
   ]
  },
  {
   "cell_type": "code",
   "execution_count": 1,
   "metadata": {},
   "outputs": [],
   "source": [
    "import numpy as np"
   ]
  },
  {
   "cell_type": "markdown",
   "metadata": {},
   "source": [
    "### 1.  Write a function called **circle_area** that computes the area of a circle given its radius **r**, using this formula\n",
    "### $$ A = \\pi r^2 $$\n",
    "### The function should have one input argument (**r**) and return the area **A**\n",
    "### The input argument **r** should take a default value of 1.  \n",
    "### After writing and executing the definition of the function, test that it works with the three tests below "
   ]
  },
  {
   "cell_type": "code",
   "execution_count": 2,
   "metadata": {
    "deletable": false,
    "nbgrader": {
     "cell_type": "code",
     "checksum": "83c542b03d7ad67bfb361e21c76a7300",
     "grade": false,
     "grade_id": "cell-bc214dcc4799e196",
     "locked": false,
     "schema_version": 3,
     "solution": true,
     "task": false
    },
    "tags": []
   },
   "outputs": [],
   "source": [
    "def circle_area(r):\n",
    "    A = (np.pi * (r**2))\n",
    "    return A\n"
   ]
  },
  {
   "cell_type": "code",
   "execution_count": 3,
   "metadata": {
    "deletable": false,
    "editable": false,
    "nbgrader": {
     "cell_type": "code",
     "checksum": "553a586b8bb3ee410b4a6125b38e34f3",
     "grade": true,
     "grade_id": "cell-81fb41c51dd1ce6c",
     "locked": true,
     "points": 1,
     "schema_version": 3,
     "solution": false,
     "task": false
    },
    "tags": []
   },
   "outputs": [],
   "source": [
    "r = 2\n",
    "Area  = circle_area(r) \n",
    "assert Area == np.pi*r**2"
   ]
  },
  {
   "cell_type": "code",
   "execution_count": null,
   "metadata": {
    "deletable": false,
    "editable": false,
    "nbgrader": {
     "cell_type": "code",
     "checksum": "9afdb68d25354d81ebb1ec6aac82ec59",
     "grade": true,
     "grade_id": "cell-cb2ff476b366949d",
     "locked": true,
     "points": 1,
     "schema_version": 3,
     "solution": false,
     "task": false
    },
    "tags": []
   },
   "outputs": [],
   "source": [
    "Area = circle_area()\n",
    "assert Area == np.pi*1**2 "
   ]
  },
  {
   "cell_type": "code",
   "execution_count": 4,
   "metadata": {
    "deletable": false,
    "editable": false,
    "nbgrader": {
     "cell_type": "code",
     "checksum": "36e58b2c103e16c21df2fda6b8c54024",
     "grade": true,
     "grade_id": "cell-6c767c3dc3d35aed",
     "locked": true,
     "points": 1,
     "schema_version": 3,
     "solution": false,
     "task": false
    },
    "tags": []
   },
   "outputs": [],
   "source": [
    "Area = circle_area(r=3)\n",
    "assert Area == np.pi*3**2"
   ]
  },
  {
   "cell_type": "markdown",
   "metadata": {},
   "source": [
    "### 2.  Write a function called **cylinder_area** that computes the surface area of a the cylinder given input arguments, radius (**r**) and height (**h**).  \n",
    "### The surface area of the cylinder is the area of the top and the bottom (both circles of radius **r**) added to area of the side of the cylinder \n",
    "### The area of the side of the cylinder is given as $2 \\pi rh$ where **h** is the height of the cylinder \n",
    "### Your new function **cylinder_area** should make use of the function **circle_area** to get the area of the top and bottom of the cylinder.  "
   ]
  },
  {
   "cell_type": "code",
   "execution_count": 7,
   "metadata": {
    "deletable": false,
    "nbgrader": {
     "cell_type": "code",
     "checksum": "6aebfb8025961ed15b22d58dea092c86",
     "grade": false,
     "grade_id": "cell-2a065046e1f3fb63",
     "locked": false,
     "schema_version": 3,
     "solution": true,
     "task": false
    },
    "tags": []
   },
   "outputs": [],
   "source": [
    "def cylinder_area(r,h):\n",
    "    top_bottom_area = 2 * circle_area(r)\n",
    "    side_area = 2 * np.pi * r * h\n",
    "    surface_area = top_bottom_area + side_area\n",
    "    return surface_area\n"
   ]
  },
  {
   "cell_type": "code",
   "execution_count": 8,
   "metadata": {
    "deletable": false,
    "editable": false,
    "nbgrader": {
     "cell_type": "code",
     "checksum": "c1d57da314c97d5d0aaee672e634e435",
     "grade": true,
     "grade_id": "cell-610acb29e99efa65",
     "locked": true,
     "points": 1,
     "schema_version": 3,
     "solution": false,
     "task": false
    },
    "tags": []
   },
   "outputs": [],
   "source": [
    "assert cylinder_area(r=2,h=1) == 12*np.pi"
   ]
  },
  {
   "cell_type": "code",
   "execution_count": 9,
   "metadata": {
    "deletable": false,
    "editable": false,
    "nbgrader": {
     "cell_type": "code",
     "checksum": "5592e25cde9b0a7023d52301443b01ce",
     "grade": true,
     "grade_id": "cell-17668daeb1dca0f0",
     "locked": true,
     "points": 1,
     "schema_version": 3,
     "solution": false,
     "task": false
    },
    "tags": []
   },
   "outputs": [],
   "source": [
    "assert cylinder_area(r=1,h=2) == 6*np.pi"
   ]
  },
  {
   "cell_type": "markdown",
   "metadata": {},
   "source": [
    "## 3. Distance function in arbitrary dimensions.  \n",
    "### In a plane, a point a has location defined by a pair of values $(a_1,a_2)$ which gives its position along the (x,y) axes\n",
    "###  The distance between two points in the plane a and b is then \n",
    "### $$ d = \\sqrt{(b_2-a_2)^2 + (b_1-a_1)^2} $$\n",
    "### If the point a is in 3 dimensions 3 coordinates are required, $(a_1,a_2,a_3)$ corresponding to (x,y,z).\n",
    "### In 3 dimensions, the distance formula between two points a and b is \n",
    "### $$ d = \\sqrt{(b_3-a_3)^2 + (b_2-a_2)^2 + (b_1-a_1)^2)} $$\n",
    "### In this case each of a,b is an array of size 3.\n",
    "### The notion of \"distance\" can be applied in any number of dimensions.  So, in general distance between 2 points in a an n-dimensional space can be defined as \n",
    "### $$ d = \\sqrt{\\sum_{j=1}^{n}{(b_j-a_j)^2}} $$ \n",
    "### Write a function called distance that takes as input arguments the two points a,b and returns the distance d between the points.  Each point is given as an array or list of size n.  \n",
    "### The same function should be able to work for any array size n = 1,2,3,4......  "
   ]
  },
  {
   "cell_type": "code",
   "execution_count": 37,
   "metadata": {
    "deletable": false,
    "nbgrader": {
     "cell_type": "code",
     "checksum": "1e759f26c3ffc644fbd053b23e039a65",
     "grade": false,
     "grade_id": "cell-4497a6342694c829",
     "locked": false,
     "schema_version": 3,
     "solution": true,
     "task": false
    },
    "tags": []
   },
   "outputs": [],
   "source": [
    "def distance(a,b):\n",
    "    a = np.array(a)  # Convert to numpy array\n",
    "    b = np.array(b)  # Convert to numpy array\n",
    "    \n",
    "    diff = b - a  \n",
    "    squared_diff = np.square(diff)  \n",
    "    sum_squared_diff = np.sum(squared_diff)  \n",
    "    d = np.sqrt(sum_squared_diff)\n",
    "    return d\n"
   ]
  },
  {
   "cell_type": "code",
   "execution_count": 38,
   "metadata": {
    "deletable": false,
    "editable": false,
    "nbgrader": {
     "cell_type": "code",
     "checksum": "9b97284c9799b1ea2b403ed8e338a962",
     "grade": true,
     "grade_id": "cell-ecf84493493de182",
     "locked": true,
     "points": 1,
     "schema_version": 3,
     "solution": false,
     "task": false
    },
    "tags": []
   },
   "outputs": [],
   "source": [
    "assert distance(1,2) == 1"
   ]
  },
  {
   "cell_type": "code",
   "execution_count": 39,
   "metadata": {
    "deletable": false,
    "editable": false,
    "nbgrader": {
     "cell_type": "code",
     "checksum": "4bbf7fe1810acec3280d416177ba35d9",
     "grade": true,
     "grade_id": "cell-632c73c5bd0d5785",
     "locked": true,
     "points": 1,
     "schema_version": 3,
     "solution": false,
     "task": false
    },
    "tags": []
   },
   "outputs": [],
   "source": [
    "assert distance([2,3],[-1,-1]) == 5"
   ]
  },
  {
   "cell_type": "code",
   "execution_count": 40,
   "metadata": {
    "deletable": false,
    "editable": false,
    "nbgrader": {
     "cell_type": "code",
     "checksum": "30d585681e65123814f74929f4d1ac0c",
     "grade": true,
     "grade_id": "cell-2f97802ace3b0b8a",
     "locked": true,
     "points": 1,
     "schema_version": 3,
     "solution": false,
     "task": false
    },
    "tags": []
   },
   "outputs": [],
   "source": [
    "assert distance(np.ones(4), np.zeros(4)) == 2"
   ]
  },
  {
   "cell_type": "markdown",
   "metadata": {},
   "source": [
    "### 4. The `input` function in python allows for keyboard input. \n",
    "### For example: \n",
    "###     d = input('test input:')\n",
    "### will prompt for an input with the text 'test input'  and place the keyboard input in a variable d of type string. (Even if you enter a number it will create a variable of type string). \n",
    "### Write a function **get_response** which prompts a user for a response of either yes or no using an `input` statement with the following prompt:\n",
    "### \"Respond with either yes or no:\"\n",
    "### The function should check if the keyboard input was 'yes' or 'no'.  If the keyboard input is either 'yes' or 'no' it should return the response, otherwise it should print the statement \n",
    "### \"Invalid Response, Try Again\" \n",
    "### and prompt for a response again.  \n"
   ]
  },
  {
   "cell_type": "code",
   "execution_count": 6,
   "metadata": {
    "deletable": false,
    "nbgrader": {
     "cell_type": "code",
     "checksum": "5a9b9423340c797834ca8472573ab403",
     "grade": false,
     "grade_id": "cell-7553c472a5fcaa23",
     "locked": false,
     "schema_version": 3,
     "solution": true,
     "task": false
    },
    "tags": []
   },
   "outputs": [],
   "source": [
    "def get_response():\n",
    "    response = input(\"Respond with either yes or no: \")\n",
    "    if response.lower() == 'yes':\n",
    "        return response\n",
    "    elif response.lower() == 'no':\n",
    "        return response\n",
    "    else:\n",
    "        print(\"Invalid Response, Try Again\")\n"
   ]
  },
  {
   "cell_type": "code",
   "execution_count": 7,
   "metadata": {
    "deletable": false,
    "editable": false,
    "nbgrader": {
     "cell_type": "code",
     "checksum": "635c4e17be3002d02d51830343546d69",
     "grade": true,
     "grade_id": "cell-e6d2c4f64560afbf",
     "locked": true,
     "points": 2,
     "schema_version": 3,
     "solution": false,
     "task": false
    },
    "tags": []
   },
   "outputs": [],
   "source": [
    "response = get_response()\n",
    "assert (response == 'yes') | (response == 'no')"
   ]
  },
  {
   "cell_type": "code",
   "execution_count": null,
   "metadata": {},
   "outputs": [],
   "source": []
  }
 ],
 "metadata": {
  "kernelspec": {
   "display_name": "Python 3.10.9 ('base')",
   "language": "python",
   "name": "python3"
  },
  "language_info": {
   "codemirror_mode": {
    "name": "ipython",
    "version": 3
   },
   "file_extension": ".py",
   "mimetype": "text/x-python",
   "name": "python",
   "nbconvert_exporter": "python",
   "pygments_lexer": "ipython3",
   "version": "3.10.9"
  },
  "vscode": {
   "interpreter": {
    "hash": "5632ee73dc041786d9cc7d38bc4e940575f68965f6460d21dc188809047d3051"
   }
  }
 },
 "nbformat": 4,
 "nbformat_minor": 4
}
