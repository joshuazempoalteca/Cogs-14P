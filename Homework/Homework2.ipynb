{
 "cells": [
  {
   "cell_type": "markdown",
   "metadata": {},
   "source": [
    "Before you turn this problem in, make sure everything runs as expected. First, **restart the kernel** (in the menubar, select Kernel$\\rightarrow$Restart) and then **run all cells** (in the menubar, select Cell$\\rightarrow$Run All).\n",
    "\n",
    "Make sure you fill in any place that says `YOUR CODE HERE` or \"YOUR ANSWER HERE\", as well as your name and collaborators below:"
   ]
  },
  {
   "cell_type": "code",
   "execution_count": 22,
   "metadata": {},
   "outputs": [],
   "source": [
    "NAME = \"Joshua Zempoalteca\"\n",
    "COLLABORATORS = \"NA\""
   ]
  },
  {
   "cell_type": "markdown",
   "metadata": {},
   "source": [
    "---"
   ]
  },
  {
   "cell_type": "markdown",
   "metadata": {
    "deletable": false,
    "editable": false,
    "nbgrader": {
     "cell_type": "markdown",
     "checksum": "a99a98576bed7e5c03ea2bea4af82213",
     "grade": false,
     "grade_id": "cell-d74946bbd1f2bac1",
     "locked": true,
     "schema_version": 3,
     "solution": false,
     "task": false
    },
    "tags": []
   },
   "source": [
    "# Homework 2 - Numpy Arrays and Functions\n",
    "\n",
    "### In order for automatic grading and validation to work, it is very important that you make use of the exact variable names specified in the problem statement.\n",
    "### I will always place these variable names that must be used for automatic grading in bold\n",
    "### One of the goal of this assignment is for you to explore some numpy functions on your own.  Specifically, I will be asking you to look up how to use some functions in numpy rather than providing examples.  For these problem, I have hidden the tests (because otherwise you wont have to do research on the method/function).\n",
    "### To look up a function, i usually type in `numpy` and the function I am interested in e.g., `mean` in the browser search box, and I go look at the numpy docs.  \n",
    "### You dont have to know the exact name, just have key words and you will find it.\n",
    "### You can also type in complete sentences like, \"How do I compute mean in numpy?\"\n",
    "\n",
    "### This homework is due on Wednesday **4/19 @ 11:59 am** "
   ]
  },
  {
   "cell_type": "markdown",
   "metadata": {
    "deletable": false,
    "editable": false,
    "nbgrader": {
     "cell_type": "markdown",
     "checksum": "b0fdde9074834253a66d81b7437ed09a",
     "grade": false,
     "grade_id": "cell-ab23016239f7a3a6",
     "locked": true,
     "schema_version": 3,
     "solution": false,
     "task": false
    },
    "tags": []
   },
   "source": [
    "### Don't forget to  import the numpy module, and for this exercise, let's import the random submodule as a separate import "
   ]
  },
  {
   "cell_type": "code",
   "execution_count": 6,
   "metadata": {},
   "outputs": [],
   "source": [
    "import numpy as np\n",
    "from numpy import random"
   ]
  },
  {
   "cell_type": "markdown",
   "metadata": {
    "deletable": false,
    "editable": false,
    "nbgrader": {
     "cell_type": "markdown",
     "checksum": "41f47fe73585efb4ccf542576eaed32c",
     "grade": false,
     "grade_id": "cell-5b7860bc008835c3",
     "locked": true,
     "schema_version": 3,
     "solution": false,
     "task": false
    },
    "tags": []
   },
   "source": [
    "### Initialize the random number generator with a seed of your choice.  Enter any integer after the equal sign"
   ]
  },
  {
   "cell_type": "code",
   "execution_count": 7,
   "metadata": {},
   "outputs": [],
   "source": [
    "rng = random.default_rng(seed = 1)"
   ]
  },
  {
   "cell_type": "markdown",
   "metadata": {
    "deletable": false,
    "editable": false,
    "nbgrader": {
     "cell_type": "markdown",
     "checksum": "ca13de62707a257c39788a411a9b6b11",
     "grade": false,
     "grade_id": "cell-e41fd32dc3e6a21f",
     "locked": true,
     "schema_version": 3,
     "solution": false,
     "task": false
    },
    "tags": []
   },
   "source": [
    "1. Generate a vector **v** with 20 random floating point numbers ranging from 0 to 100. "
   ]
  },
  {
   "cell_type": "code",
   "execution_count": 8,
   "metadata": {
    "deletable": false,
    "nbgrader": {
     "cell_type": "code",
     "checksum": "a3215b83c3ca289f69a32596c8891dc7",
     "grade": false,
     "grade_id": "cell-949dd6bbdddf3f52",
     "locked": false,
     "schema_version": 3,
     "solution": true,
     "task": false
    },
    "tags": []
   },
   "outputs": [],
   "source": [
    "v = np.random.uniform(low=0.0, high=100.0, size=(20,))"
   ]
  },
  {
   "cell_type": "code",
   "execution_count": 9,
   "metadata": {
    "deletable": false,
    "editable": false,
    "nbgrader": {
     "cell_type": "code",
     "checksum": "be2595758eb1f666531f25afa165912d",
     "grade": true,
     "grade_id": "cell-a1c300a8a17bc32e",
     "locked": true,
     "points": 1,
     "schema_version": 3,
     "solution": false,
     "task": false
    },
    "tags": []
   },
   "outputs": [],
   "source": [
    "assert v.size == 20\n",
    "assert v.dtype == 'float64'"
   ]
  },
  {
   "cell_type": "markdown",
   "metadata": {
    "deletable": false,
    "editable": false,
    "nbgrader": {
     "cell_type": "markdown",
     "checksum": "5e20b9dac6fd9c3e73dda2d33fe7f7ed",
     "grade": false,
     "grade_id": "cell-1cb1d59afdfb6a68",
     "locked": true,
     "schema_version": 3,
     "solution": false,
     "task": false
    },
    "tags": []
   },
   "source": [
    "2. Generate a matrix **M** with 5 rows and 2 columns containing integers ranging from -10 to 10. Make sure your range includes -10 and 10.    "
   ]
  },
  {
   "cell_type": "code",
   "execution_count": 10,
   "metadata": {
    "deletable": false,
    "nbgrader": {
     "cell_type": "code",
     "checksum": "f7dd616294e1f63615a3650269bad686",
     "grade": false,
     "grade_id": "cell-21d4dbb6131daa5d",
     "locked": false,
     "schema_version": 3,
     "solution": true,
     "task": false
    },
    "tags": []
   },
   "outputs": [],
   "source": [
    "M = np.random.randint(low=-10, high=11, size=(5, 2))"
   ]
  },
  {
   "cell_type": "code",
   "execution_count": 11,
   "metadata": {
    "deletable": false,
    "editable": false,
    "nbgrader": {
     "cell_type": "code",
     "checksum": "a778069437f6ac15280221c1664bbd90",
     "grade": true,
     "grade_id": "cell-6dcd745a06b7bd90",
     "locked": true,
     "points": 1,
     "schema_version": 3,
     "solution": false,
     "task": false
    },
    "tags": []
   },
   "outputs": [],
   "source": [
    "assert M.shape[0] == 5\n",
    "assert M.shape[1] == 2"
   ]
  },
  {
   "cell_type": "markdown",
   "metadata": {
    "deletable": false,
    "editable": false,
    "nbgrader": {
     "cell_type": "markdown",
     "checksum": "b9159ee89be3daa1288bd3a1c235dc02",
     "grade": false,
     "grade_id": "cell-196e12422cfd50fd",
     "locked": true,
     "schema_version": 3,
     "solution": false,
     "task": false
    },
    "tags": []
   },
   "source": [
    "3. Create a variable **max_v** which contains the maximum value in **v**, and the variable **index_max_v** which contatins the index of the element in the array v with maximum value.  "
   ]
  },
  {
   "cell_type": "code",
   "execution_count": 12,
   "metadata": {
    "deletable": false,
    "nbgrader": {
     "cell_type": "code",
     "checksum": "1f969f6ff19fc03469ed22aefd48b087",
     "grade": false,
     "grade_id": "cell-899ca7f30b7c74bb",
     "locked": false,
     "schema_version": 3,
     "solution": true,
     "task": false
    },
    "tags": []
   },
   "outputs": [],
   "source": [
    "max_v = np.max(v)\n",
    "index_max_v = np.argmax(v)"
   ]
  },
  {
   "cell_type": "code",
   "execution_count": 13,
   "metadata": {
    "deletable": false,
    "editable": false,
    "nbgrader": {
     "cell_type": "code",
     "checksum": "44c0e293ae8ec0b3aa2108a8091bae53",
     "grade": true,
     "grade_id": "cell-5cb49408fa36a025",
     "locked": true,
     "points": 1,
     "schema_version": 3,
     "solution": false,
     "task": false
    },
    "tags": []
   },
   "outputs": [],
   "source": [
    "assert v[index_max_v] == max_v"
   ]
  },
  {
   "cell_type": "markdown",
   "metadata": {
    "deletable": false,
    "editable": false,
    "nbgrader": {
     "cell_type": "markdown",
     "checksum": "b9de3be252f88690f2b4b79e46e205d5",
     "grade": false,
     "grade_id": "cell-6bb7cda6fd27e1f3",
     "locked": true,
     "schema_version": 3,
     "solution": false,
     "task": false
    },
    "tags": []
   },
   "source": [
    "4. Create a variable **M_colmin** which is an array that contains the minimum value in each column of **M**. "
   ]
  },
  {
   "cell_type": "code",
   "execution_count": 16,
   "metadata": {
    "deletable": false,
    "nbgrader": {
     "cell_type": "code",
     "checksum": "c93eb177669f44213b0be66c0917a8af",
     "grade": false,
     "grade_id": "cell-536857c6d70008ea",
     "locked": false,
     "schema_version": 3,
     "solution": true,
     "task": false
    },
    "tags": []
   },
   "outputs": [],
   "source": [
    "M_colmin = np.min(M, axis = 0)"
   ]
  },
  {
   "cell_type": "code",
   "execution_count": 17,
   "metadata": {
    "deletable": false,
    "editable": false,
    "nbgrader": {
     "cell_type": "code",
     "checksum": "4f949646670a36dfcb6a2ca12f898e6c",
     "grade": true,
     "grade_id": "cell-4c6f059b37e7c422",
     "locked": true,
     "points": 1,
     "schema_version": 3,
     "solution": false,
     "task": false
    },
    "tags": []
   },
   "outputs": [],
   "source": [
    "assert M_colmin.size == 2"
   ]
  },
  {
   "cell_type": "markdown",
   "metadata": {
    "deletable": false,
    "editable": false,
    "nbgrader": {
     "cell_type": "markdown",
     "checksum": "0a10fa855af51b86815d6019aba9c59f",
     "grade": false,
     "grade_id": "cell-ffe6a7f334290ce0",
     "locked": true,
     "schema_version": 3,
     "solution": false,
     "task": false
    },
    "tags": []
   },
   "source": [
    "5. Generate a random variable **x** with 20 integers ranging from 100 to 199 and a random variable **y** with 20 integers ranging from 200 to 299. Create a variable **x_sortorder** which contains the order of indices to sort **x** in increasing order then and use **x_sortorder** to sort both **x** and **y** in new variables **sorted_x** and **sorted_y**"
   ]
  },
  {
   "cell_type": "code",
   "execution_count": 20,
   "metadata": {
    "deletable": false,
    "nbgrader": {
     "cell_type": "code",
     "checksum": "2bd4ec6d18cb38e0087cdc7523daabd2",
     "grade": false,
     "grade_id": "cell-fe787f0ac445fc89",
     "locked": false,
     "schema_version": 3,
     "solution": true,
     "task": false
    },
    "tags": []
   },
   "outputs": [],
   "source": [
    "x = np.random.randint(low=100, high=200, size=(20,))\n",
    "y = np.random.randint(low=200, high=300, size=(20,))\n",
    "\n",
    "x_sortorder = np.argsort(x)\n",
    "\n",
    "sorted_x = x[x_sortorder]\n",
    "sorted_y = y[x_sortorder]"
   ]
  },
  {
   "cell_type": "code",
   "execution_count": 21,
   "metadata": {
    "deletable": false,
    "editable": false,
    "nbgrader": {
     "cell_type": "code",
     "checksum": "cc8b0b9a1b297642899b7f9136852eca",
     "grade": true,
     "grade_id": "cell-3e6438dafa5d376b",
     "locked": true,
     "points": 2,
     "schema_version": 3,
     "solution": false,
     "task": false
    },
    "tags": []
   },
   "outputs": [],
   "source": [
    "assert np.sum(np.diff(sorted_x)) >= 0\n",
    "assert sorted_y[-1] == y[np.argmax(x)]"
   ]
  },
  {
   "cell_type": "markdown",
   "metadata": {
    "deletable": false,
    "editable": false,
    "nbgrader": {
     "cell_type": "markdown",
     "checksum": "4a155911503554c75d67e7e9ee0ab7ad",
     "grade": false,
     "grade_id": "cell-cbd1d5c301b3ee15",
     "locked": true,
     "schema_version": 3,
     "solution": false,
     "task": false
    },
    "tags": []
   },
   "source": [
    "### Computing Summary Statistics using numpy\n",
    "\n",
    "One of the goal of this assignment is for you to explore some numpy functions on your own.  Specifically, I will be asking you to look up in the either the numpy documentation, or by simply searching the web how to use some functions in numpy that compute simple summary statisics of data. \n",
    "\n",
    "* `mean`, compute the mean or average of data array \n",
    "* `median`, compute the middle value of a data array \n",
    "* `std`, compute the standard deviation of a data array \n",
    "* `percentile`, compute the value of the q-th percentile of an array  \n",
    "\n",
    "I am not going to provide any instruction on how to use them here.  The challenge for you here is to figure it out\n",
    "for yourself (you can ask for help after you have tried if it doesnt work.)  The internet is your friend.  \n"
   ]
  },
  {
   "cell_type": "markdown",
   "metadata": {
    "deletable": false,
    "editable": false,
    "nbgrader": {
     "cell_type": "markdown",
     "checksum": "a1d0ab1b46582b538431b6d88893a58a",
     "grade": false,
     "grade_id": "cell-a3a8b1100efa4d6d",
     "locked": true,
     "schema_version": 3,
     "solution": false,
     "task": false
    },
    "tags": []
   },
   "source": [
    "6.  Reset the random number seed to 77 and make a new random number generator object called `rng`.  This is critical or the tests will fail!"
   ]
  },
  {
   "cell_type": "code",
   "execution_count": 23,
   "metadata": {
    "deletable": false,
    "nbgrader": {
     "cell_type": "code",
     "checksum": "c6f0495779ed1e74b4c86622912051a1",
     "grade": false,
     "grade_id": "cell-77926453c098db03",
     "locked": false,
     "schema_version": 3,
     "solution": true,
     "task": false
    },
    "tags": []
   },
   "outputs": [],
   "source": [
    "rng = random.default_rng(seed = 77)"
   ]
  },
  {
   "cell_type": "code",
   "execution_count": null,
   "metadata": {
    "deletable": false,
    "editable": false,
    "nbgrader": {
     "cell_type": "code",
     "checksum": "6538bcf46026d5d36b84b273e94362c8",
     "grade": true,
     "grade_id": "cell-83c35258e2445e1c",
     "locked": true,
     "points": 0,
     "schema_version": 3,
     "solution": false,
     "task": false
    },
    "tags": []
   },
   "outputs": [],
   "source": []
  },
  {
   "cell_type": "markdown",
   "metadata": {
    "deletable": false,
    "editable": false,
    "nbgrader": {
     "cell_type": "markdown",
     "checksum": "e19446de7353929a25ea6f4be1a9defe",
     "grade": false,
     "grade_id": "cell-b442ea238ff6e454",
     "locked": true,
     "schema_version": 3,
     "solution": false,
     "task": false
    },
    "tags": []
   },
   "source": [
    "6.  Generate a vector **u** containing 50 random numbers from a uniform distribution ranging from 0 to 100.  Compute variables called **mean_u** and **median_u** that contain the mean and median of u using numpy functions `mean` and `median`. "
   ]
  },
  {
   "cell_type": "code",
   "execution_count": 24,
   "metadata": {
    "deletable": false,
    "nbgrader": {
     "cell_type": "code",
     "checksum": "ca1c2bf764da2e0997cdc460ae572add",
     "grade": false,
     "grade_id": "cell-8b476f0c0588d39d",
     "locked": false,
     "schema_version": 3,
     "solution": true,
     "task": false
    },
    "tags": []
   },
   "outputs": [],
   "source": [
    "u = np.random.uniform(low=0.0, high=100.0, size=(50,))\n",
    "\n",
    "mean_u = np.mean(u)\n",
    "median_u = np.median(u)"
   ]
  },
  {
   "cell_type": "code",
   "execution_count": 25,
   "metadata": {
    "deletable": false,
    "editable": false,
    "nbgrader": {
     "cell_type": "code",
     "checksum": "d6f86518f0943b39ea6e5d0daccf52c5",
     "grade": true,
     "grade_id": "cell-c73933662d262383",
     "locked": true,
     "points": 1,
     "schema_version": 3,
     "solution": false,
     "task": false
    },
    "tags": []
   },
   "outputs": [],
   "source": [
    "assert np.size(u) == 50"
   ]
  },
  {
   "cell_type": "markdown",
   "metadata": {
    "deletable": false,
    "editable": false,
    "nbgrader": {
     "cell_type": "markdown",
     "checksum": "bc2bd0565df07a409f93cc6b6bb2308f",
     "grade": false,
     "grade_id": "cell-8aea1393273b3039",
     "locked": true,
     "schema_version": 3,
     "solution": false,
     "task": false
    },
    "tags": []
   },
   "source": [
    "7.  Generate a vector **v** containing 1000 random floating point numbers from a uniform distribution ranging from 0 to 100.  The objective of this exercise is to compute the 10th, 25th, 50th, 75th, and 90th percentile of **v** using `percentile`. Place them in that order in a numpy array of length 5 called **v_percentiles**. (Hint, make an array of zeros at the start).  So, if i look at v_percentiles[0] it should be the 10th percentile, v_percentiles[1] should be 25th percentile, etc. The answers should make sense to you as approximately corresponding fractions of 100.    \n"
   ]
  },
  {
   "cell_type": "code",
   "execution_count": 28,
   "metadata": {
    "deletable": false,
    "nbgrader": {
     "cell_type": "code",
     "checksum": "7ece6009edeb7d621c6a0eb0a72c0436",
     "grade": false,
     "grade_id": "cell-7233acdb712f93c7",
     "locked": false,
     "schema_version": 3,
     "solution": true,
     "task": false
    },
    "tags": []
   },
   "outputs": [],
   "source": [
    "v = np.random.uniform(low=0.0, high=100.0, size=(1000,))\n",
    "\n",
    "v_percentiles = np.zeros(5)\n",
    "v_percentiles[0] = np.percentile(v, 10)\n",
    "v_percentiles[1] = np.percentile(v, 25)\n",
    "v_percentiles[2] = np.percentile(v, 50)\n",
    "v_percentiles[3] = np.percentile(v, 75)\n",
    "v_percentiles[4] = np.percentile(v, 90)"
   ]
  },
  {
   "cell_type": "code",
   "execution_count": 29,
   "metadata": {
    "deletable": false,
    "editable": false,
    "nbgrader": {
     "cell_type": "code",
     "checksum": "518b2dad4a0162338dc684dbdfb7abd0",
     "grade": true,
     "grade_id": "cell-4b1c6fbb9a2022e6",
     "locked": true,
     "points": 1,
     "schema_version": 3,
     "solution": false,
     "task": false
    },
    "tags": []
   },
   "outputs": [],
   "source": [
    "assert np.size(v) == 1000"
   ]
  },
  {
   "cell_type": "markdown",
   "metadata": {
    "deletable": false,
    "editable": false,
    "nbgrader": {
     "cell_type": "markdown",
     "checksum": "68f353b378175f964104ffc3dfb31efc",
     "grade": false,
     "grade_id": "cell-6b05fec3d3a2fe69",
     "locked": true,
     "schema_version": 3,
     "solution": false,
     "task": false
    },
    "tags": []
   },
   "source": [
    "8.  Generate a matrix **dice** containing 100 random integers ranging from 1-6 for each of 9 dice.  There should be 100 rows and 9 columns, mimicking 100 rolls of 9 dice.    Compute the mean, median, and standard deviation(`std`) for each die (column) in variables named **dice_median**, **dice_mean**, **dice_std**.  Hint: you need to specify the *axis* as explained in these functions   "
   ]
  },
  {
   "cell_type": "code",
   "execution_count": 30,
   "metadata": {
    "deletable": false,
    "nbgrader": {
     "cell_type": "code",
     "checksum": "175d95f4a5c786fce12878d82706b739",
     "grade": false,
     "grade_id": "cell-285c1ba6cc4a76dc",
     "locked": false,
     "schema_version": 3,
     "solution": true,
     "task": false
    },
    "tags": []
   },
   "outputs": [],
   "source": [
    "dice = np.random.randint(low=1, high=7, size=(100, 9))\n",
    "\n",
    "dice_mean = np.mean(dice, axis=0)\n",
    "dice_median = np.median(dice, axis=0)\n",
    "dice_std = np.std(dice, axis=0)"
   ]
  },
  {
   "cell_type": "code",
   "execution_count": 31,
   "metadata": {
    "deletable": false,
    "editable": false,
    "nbgrader": {
     "cell_type": "code",
     "checksum": "6d622877441a8881baad953f654731b4",
     "grade": true,
     "grade_id": "cell-a17afefe6e70b188",
     "locked": true,
     "points": 1,
     "schema_version": 3,
     "solution": false,
     "task": false
    },
    "tags": []
   },
   "outputs": [],
   "source": [
    "assert np.size(dice_mean) == 9 "
   ]
  },
  {
   "cell_type": "markdown",
   "metadata": {
    "deletable": false,
    "editable": false,
    "nbgrader": {
     "cell_type": "markdown",
     "checksum": "fe73841fed98b53cf0a9dbae5438bbf0",
     "grade": false,
     "grade_id": "cell-4484c395e6d15240",
     "locked": true,
     "schema_version": 3,
     "solution": false,
     "task": false
    },
    "tags": []
   },
   "source": [
    "9. Using matrix **dice** generated in problem 8, compute the mean of the 9 dice for each roll in a variable called roll_mean.   "
   ]
  },
  {
   "cell_type": "code",
   "execution_count": 34,
   "metadata": {
    "deletable": false,
    "nbgrader": {
     "cell_type": "code",
     "checksum": "211f1676d4ceebc9b53d336a9e823456",
     "grade": false,
     "grade_id": "cell-5e94a56d30b45dc2",
     "locked": false,
     "schema_version": 3,
     "solution": true,
     "task": false
    },
    "tags": []
   },
   "outputs": [],
   "source": [
    "roll_mean = np.mean(dice, axis=1)"
   ]
  },
  {
   "cell_type": "code",
   "execution_count": 35,
   "metadata": {
    "deletable": false,
    "editable": false,
    "nbgrader": {
     "cell_type": "code",
     "checksum": "bd2a55b94b254831ab7ce7feaafd6917",
     "grade": true,
     "grade_id": "cell-4f00670b7db8e0e7",
     "locked": true,
     "points": 1,
     "schema_version": 3,
     "solution": false,
     "task": false
    },
    "tags": []
   },
   "outputs": [],
   "source": [
    "assert np.size(roll_mean) == 100 "
   ]
  },
  {
   "cell_type": "code",
   "execution_count": null,
   "metadata": {},
   "outputs": [],
   "source": []
  }
 ],
 "metadata": {
  "kernelspec": {
   "display_name": "Python 3 (ipykernel)",
   "language": "python",
   "name": "python3"
  },
  "language_info": {
   "codemirror_mode": {
    "name": "ipython",
    "version": 3
   },
   "file_extension": ".py",
   "mimetype": "text/x-python",
   "name": "python",
   "nbconvert_exporter": "python",
   "pygments_lexer": "ipython3",
   "version": "3.10.9"
  }
 },
 "nbformat": 4,
 "nbformat_minor": 4
}
