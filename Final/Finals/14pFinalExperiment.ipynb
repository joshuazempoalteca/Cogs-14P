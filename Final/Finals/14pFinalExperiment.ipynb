{
 "cells": [
  {
   "cell_type": "markdown",
   "id": "f1dbd034-c7a0-40a8-9469-39db0663896e",
   "metadata": {},
   "source": [
    "## 14p Final Project (Experiment): Joshua Zempoalteca & Yara Currier-Herzallah"
   ]
  },
  {
   "cell_type": "code",
   "execution_count": 1,
   "id": "4d35234d-6194-45f2-99df-ad9a0dc84dbb",
   "metadata": {},
   "outputs": [],
   "source": [
    "import numpy as np\n",
    "from numpy import random \n",
    "import pandas as pd\n",
    "import simpleaudio as sa"
   ]
  },
  {
   "cell_type": "code",
   "execution_count": 12,
   "id": "457f7ad7-60b6-4fbf-a59b-b8b1317e6862",
   "metadata": {},
   "outputs": [],
   "source": [
    "subjid = 2 # unique value set by experimenter\n",
    "baseFreq = 1760 # set by experimenter in Hz\n",
    "\n",
    "randomNumSeed = subjid\n",
    "startingFreqDiff = 0.1 #default from prompt\n",
    "numFixedTrials = 5 #default from prompt\n",
    "numReversals = 4 #default from prompt\n",
    "maxTrials = 50 #default from prompt\n",
    "duration = 0.5 \n",
    "volume = 0.1\n",
    "silent_interval = 0.25 # silent interval between the two notes\n",
    "sr = 44100\n",
    "filename =  'subj'+str(subjid) + 'freq'+str(baseFreq) + '.csv'\n",
    "completeTrials = 0\n",
    "reversals = 0"
   ]
  },
  {
   "cell_type": "code",
   "execution_count": 13,
   "id": "f1c039a0-dbea-4c0b-b414-7693f52d4e56",
   "metadata": {},
   "outputs": [],
   "source": [
    "def make_tone(f,duration,sr = 44100,ramp = 200):\n",
    "    time_vec = np.linspace(0, duration, int(duration*sr)) # The number of samples is the length of time X sampling rate.\n",
    "    tone = np.sin(f * time_vec  * 2 * np.pi)\n",
    "    risingramp = np.linspace(0,1,ramp)\n",
    "    descendingramp = np.linspace(1,0,ramp)\n",
    "    tone[0:ramp] = tone[0:ramp]*risingramp\n",
    "    tone[-ramp:] = tone[-ramp:]*descendingramp\n",
    "    return tone\n",
    "def play_sound(tone,volume = 0.05,sr = 44100):\n",
    "    tone  = tone*32768 / np.max(np.abs(tone)) # scale to the range of the sound card.  \n",
    "    tone = volume*tone # FOR SAFETY.  PLEASE LIMIT THE MAXIMIM VOLUME! \n",
    "    tone  = tone.astype(np.int16) # convert to 16 bit integers. \n",
    "    play_obj = sa.play_buffer(tone , 1, 2, sr) # i created an object here. \n",
    "    play_obj.wait_done() # tells python to wait for the sound to finish before going any further.  \n",
    "def randomize_trials(ctrials,ncond):\n",
    "    trials = np.zeros(ctrials*ncond)\n",
    "    for j in range(ncond):\n",
    "        trials[j*ctrials:(j+1)*ctrials] = j*np.ones(ctrials) # an array with ntrials ones\n",
    "    shuffle = random.permutation(ctrials*ncond) # get a random order of trials\n",
    "    trials = trials[shuffle] # permute trial order \n",
    "    return trials"
   ]
  },
  {
   "cell_type": "code",
   "execution_count": 14,
   "id": "5956735f-59cc-4049-bdb5-bd45c22f58c6",
   "metadata": {},
   "outputs": [],
   "source": [
    "rng = random.default_rng(seed = subjid)"
   ]
  },
  {
   "cell_type": "code",
   "execution_count": 15,
   "id": "131b0c6e-1de6-43fb-89ce-992c0439e455",
   "metadata": {},
   "outputs": [],
   "source": [
    "df = startingFreqDiff\n",
    "A_note = make_tone(baseFreq, duration)\n",
    "fB = baseFreq + (baseFreq * df)\n",
    "B_note = make_tone(fB,duration)\n",
    "silence = np.zeros(int(silent_interval*sr))\n",
    "\n",
    "trial_order = randomize_trials(maxTrials, 2)"
   ]
  },
  {
   "cell_type": "code",
   "execution_count": 16,
   "id": "48d2dfa2-372d-4e70-8e4a-000f9403d229",
   "metadata": {},
   "outputs": [],
   "source": [
    "correct_response = np.zeros(maxTrials, dtype = int) #empty array to hold the trial labels\n",
    "trial_response = np.array(np.zeros(maxTrials),dtype = int) #empty array to hold the responses of trype string\n",
    "A_notes = np.zeros(maxTrials)\n",
    "freq_diffs = np.zeros(maxTrials, dtype = float)"
   ]
  },
  {
   "cell_type": "code",
   "execution_count": 17,
   "id": "6d6b2c38-530a-494b-bcd6-674b1547fe92",
   "metadata": {},
   "outputs": [
    {
     "name": "stdout",
     "output_type": "stream",
     "text": [
      "1760 Hz task complete.\n"
     ]
    }
   ],
   "source": [
    "for trial in range(numFixedTrials): \n",
    "    if trial_order[completeTrials] == 0: \n",
    "        stimulus = np.concatenate((A_note,silence,B_note))\n",
    "        play_sound(stimulus,volume=volume)\n",
    "        correct_response[trial] = 2\n",
    "    else:\n",
    "        stimulus = np.concatenate((B_note,silence,A_note))\n",
    "        play_sound(stimulus,volume=volume)\n",
    "        correct_response[trial] = 1\n",
    "    response_check = False \n",
    "    while response_check == False:\n",
    "        response = input('Is the first or 2nd note higher') \n",
    "        if (response =='1') | (response == '2'): \n",
    "            response_check = True \n",
    "            trial_response[trial] = int(response)\n",
    "    A_notes[completeTrials] = baseFreq\n",
    "    freq_diffs[completeTrials] = df\n",
    "    completeTrials += 1\n",
    "while completeTrials < maxTrials: \n",
    "    if trial_order[completeTrials] == 0: \n",
    "        stimulus = np.concatenate((A_note,silence,B_note))\n",
    "        play_sound(stimulus,volume=volume)\n",
    "        correct_response[completeTrials] = 2\n",
    "    else:\n",
    "        stimulus = np.concatenate((B_note,silence,A_note))\n",
    "        play_sound(stimulus,volume=volume)\n",
    "        correct_response[completeTrials] = 1\n",
    "    response_check = False  \n",
    "    while response_check == False:\n",
    "        response = input('Is the first or 2nd note higher')\n",
    "        if (response =='1') | (response == '2'): \n",
    "            response_check = True\n",
    "    trial_response[completeTrials] = int(response) \n",
    "    A_notes[completeTrials] = baseFreq\n",
    "    freq_diffs[completeTrials] = df\n",
    "    if (trial_response[completeTrials] == correct_response[completeTrials]) & (trial_response[completeTrials - 1] == correct_response[completeTrials - 1]):\n",
    "        if freq_diffs[completeTrials] == freq_diffs[completeTrials - 1]:\n",
    "            df = df/(np.sqrt(2))\n",
    "    elif trial_response[completeTrials] != correct_response[completeTrials]: \n",
    "        df = df*(np.sqrt(2))\n",
    "        reversals +=1\n",
    "    if reversals == numReversals + 1: \n",
    "        break\n",
    "    fB = A_note + (A_note + df)          \n",
    "    completeTrials += 1\n",
    "\n",
    "print(str(baseFreq)+' Hz task complete.')\n"
   ]
  },
  {
   "cell_type": "code",
   "execution_count": 18,
   "id": "a9800688",
   "metadata": {},
   "outputs": [],
   "source": [
    "data = pd.DataFrame(columns = ['Frequency of A note', 'Condition','Response', 'Frequency Difference']) #create a data frame\n",
    "data['Frequency of A note'] = A_notes\n",
    "data['Frequency Difference'] = freq_diffs\n",
    "data['Condition'] = correct_response #save trial order\n",
    "data['Response'] = trial_response  #save response \n",
    "data.to_csv(filename, index= False)"
   ]
  }
 ],
 "metadata": {
  "kernelspec": {
   "display_name": "Python 3 (ipykernel)",
   "language": "python",
   "name": "python3"
  },
  "language_info": {
   "codemirror_mode": {
    "name": "ipython",
    "version": 3
   },
   "file_extension": ".py",
   "mimetype": "text/x-python",
   "name": "python",
   "nbconvert_exporter": "python",
   "pygments_lexer": "ipython3",
   "version": "3.10.9"
  },
  "vscode": {
   "interpreter": {
    "hash": "5632ee73dc041786d9cc7d38bc4e940575f68965f6460d21dc188809047d3051"
   }
  }
 },
 "nbformat": 4,
 "nbformat_minor": 5
}
