{
 "cells": [
  {
   "cell_type": "markdown",
   "id": "533b36f7-2e5e-4152-81f6-8a7d4204901f",
   "metadata": {},
   "source": [
    "## 14p Final Project (Data Analysis): Joshua Zempoalteca & Yara Currier-Herzallah"
   ]
  },
  {
   "cell_type": "code",
   "execution_count": 23,
   "id": "36118322-b0b5-4641-a951-ab620fa448a3",
   "metadata": {},
   "outputs": [],
   "source": [
    "import numpy as np\n",
    "from matplotlib import pyplot as plt\n",
    "import numpy as np\n",
    "import pandas as pd\n",
    "import matplotlib.patches as mpatches"
   ]
  },
  {
   "cell_type": "code",
   "execution_count": 24,
   "id": "140a3925-9316-4f13-a127-1f234a96dbaa",
   "metadata": {},
   "outputs": [],
   "source": [
    "sub1hz440 = pd.read_csv('subj1freq440.csv')\n",
    "sub1hz880 = pd.read_csv('subj1freq880.csv')\n",
    "sub1hz1760 = pd.read_csv('subj1freq1760.csv')\n",
    "sub2hz440 = pd.read_csv('subj2freq440.csv')\n",
    "sub2hz880 = pd.read_csv('subj2freq880.csv')\n",
    "sub2hz1760 = pd.read_csv('subj2freq1760.csv')"
   ]
  },
  {
   "cell_type": "code",
   "execution_count": 1,
   "id": "64ac76b0-14c9-4a39-8464-5a65794e8078",
   "metadata": {},
   "outputs": [
    {
     "ename": "NameError",
     "evalue": "name 'sub1hz440' is not defined",
     "output_type": "error",
     "traceback": [
      "\u001b[0;31m---------------------------------------------------------------------------\u001b[0m",
      "\u001b[0;31mNameError\u001b[0m                                 Traceback (most recent call last)",
      "Cell \u001b[0;32mIn[1], line 1\u001b[0m\n\u001b[0;32m----> 1\u001b[0m datasets \u001b[38;5;241m=\u001b[39m [\u001b[43msub1hz440\u001b[49m, sub1hz880, sub1hz1760, sub2hz440, sub2hz880, sub2hz1760]\n\u001b[1;32m      2\u001b[0m subjectTaskAndName \u001b[38;5;241m=\u001b[39m [\u001b[38;5;124m'\u001b[39m\u001b[38;5;124mSubject 1 440Hz\u001b[39m\u001b[38;5;124m'\u001b[39m, \u001b[38;5;124m'\u001b[39m\u001b[38;5;124mSubject 1 880Hz\u001b[39m\u001b[38;5;124m'\u001b[39m, \u001b[38;5;124m'\u001b[39m\u001b[38;5;124mSubject 1 1760Hz\u001b[39m\u001b[38;5;124m'\u001b[39m, \u001b[38;5;124m'\u001b[39m\u001b[38;5;124mSubject 2 440Hz\u001b[39m\u001b[38;5;124m'\u001b[39m, \u001b[38;5;124m'\u001b[39m\u001b[38;5;124mSubject 2 880Hz\u001b[39m\u001b[38;5;124m'\u001b[39m, \u001b[38;5;124m'\u001b[39m\u001b[38;5;124mSubject 2 1760Hz\u001b[39m\u001b[38;5;124m'\u001b[39m]\n\u001b[1;32m      3\u001b[0m trialCondition \u001b[38;5;241m=\u001b[39m (\u001b[38;5;124m'\u001b[39m\u001b[38;5;124mTest, Condition 1\u001b[39m\u001b[38;5;124m'\u001b[39m, \u001b[38;5;124m'\u001b[39m\u001b[38;5;124mCondition 2\u001b[39m\u001b[38;5;124m'\u001b[39m)\n",
      "\u001b[0;31mNameError\u001b[0m: name 'sub1hz440' is not defined"
     ]
    }
   ],
   "source": [
    "datasets = [sub1hz440, sub1hz880, sub1hz1760, sub2hz440, sub2hz880, sub2hz1760]\n",
    "subjectTaskAndName = ['Subject 1 440Hz', 'Subject 1 880Hz', 'Subject 1 1760Hz', 'Subject 2 440Hz', 'Subject 2 880Hz', 'Subject 2 1760Hz']\n",
    "trialCondition = ('Test, Condition 1', 'Condition 2')\n",
    "title_index = 0\n",
    "training_color = 'k'\n",
    "correct_color = 'm'\n",
    "incorrect_color = 'c'\n",
    "\n",
    "for task in datasets: \n",
    "    correctResponse = np.array(task['Condition'])\n",
    "    trialResponse = np.array(task['Response'])\n",
    "    frequencyDifference = np.array(task['Frequency Difference'])\n",
    "    x_val = [0]\n",
    "    y_val = [0]\n",
    "    wrongTrials = []\n",
    "\n",
    "    plt.figure()\n",
    "    plt.xlabel('Trial Number')\n",
    "    plt.ylabel('Frequency Difference')\n",
    "    plt.title(subjectTaskAndName[title_index]) \n",
    "\n",
    "    \n",
    "    for trial in range(0,5):\n",
    "        x_val[0] = trial + 1\n",
    "        y_val[0] = frequencyDifference[trial]\n",
    "        plt.plot(x_val, y_val, markeredgecolor='k', markerfacecolor='k', marker='o', label='Training Trials')\n",
    "\n",
    "    \n",
    "    for trial in range(5,50): \n",
    "        x_val[0] = trial + 1\n",
    "        y_val[0] = frequencyDifference[trial]\n",
    "        #print(x_val, y_val)\n",
    "        if correctResponse[trial] == trialResponse[trial]:\n",
    "            plt.plot(x_val, y_val, markeredgecolor='m', markerfacecolor='m', marker='o', label='Correct Trials')\n",
    "        else:\n",
    "            plt.plot(x_val, y_val, markeredgecolor='c', markerfacecolor='c', marker='o', label='Incorrect Trials')\n",
    "            wrongTrials.append(frequencyDifference[trial])\n",
    "    \n",
    "    if len(wrongTrials)>0: \n",
    "        wrongTrials.pop(0)        \n",
    "        threshold = np.mean(wrongTrials)\n",
    "    else: \n",
    "        threshold = 0 \n",
    "    \n",
    "    plt.axhline(y=threshold)\n",
    "\n",
    "    #add_axes([0.0,0.0,1.0,1.0]\n",
    "\n",
    "    training_patch = mpatches.Patch(color=training_color, label='Training Trials')\n",
    "    correct_patch = mpatches.Patch(color=correct_color, label='Correct Trials')\n",
    "    incorrect_patch = mpatches.Patch(color=incorrect_color, label='Incorrect Trials')\n",
    "\n",
    "    plt.legend(handles=[training_patch, correct_patch, incorrect_patch])\n",
    "    \n",
    "    title_index += 1"
   ]
  },
  {
   "cell_type": "code",
   "execution_count": null,
   "id": "97b2308f-ecf6-47d3-94eb-eeb600ef5b2f",
   "metadata": {},
   "outputs": [],
   "source": []
  },
  {
   "cell_type": "code",
   "execution_count": null,
   "id": "b08db828-4f6a-49a2-8354-c9c0be8d7a15",
   "metadata": {},
   "outputs": [],
   "source": []
  }
 ],
 "metadata": {
  "kernelspec": {
   "display_name": "Python 3.10.9 ('base')",
   "language": "python",
   "name": "python3"
  },
  "language_info": {
   "codemirror_mode": {
    "name": "ipython",
    "version": 3
   },
   "file_extension": ".py",
   "mimetype": "text/x-python",
   "name": "python",
   "nbconvert_exporter": "python",
   "pygments_lexer": "ipython3",
   "version": "3.10.9"
  },
  "vscode": {
   "interpreter": {
    "hash": "5632ee73dc041786d9cc7d38bc4e940575f68965f6460d21dc188809047d3051"
   }
  }
 },
 "nbformat": 4,
 "nbformat_minor": 5
}
