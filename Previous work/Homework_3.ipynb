{
 "cells": [
  {
   "cell_type": "markdown",
   "metadata": {},
   "source": [
    "Before you turn this problem in, make sure everything runs as expected. First, **restart the kernel** (in the menubar, select Kernel$\\rightarrow$Restart) and then **run all cells** (in the menubar, select Cell$\\rightarrow$Run All).\n",
    "\n",
    "Make sure you fill in any place that says `YOUR CODE HERE` or \"YOUR ANSWER HERE\", as well as your name and collaborators below:"
   ]
  },
  {
   "cell_type": "code",
   "execution_count": 1,
   "metadata": {},
   "outputs": [],
   "source": [
    "NAME = \"Joshua Zempoalteca\"\n",
    "COLLABORATORS = \"N/A\""
   ]
  },
  {
   "cell_type": "markdown",
   "metadata": {},
   "source": [
    "---"
   ]
  },
  {
   "cell_type": "markdown",
   "metadata": {
    "deletable": false,
    "editable": false,
    "nbgrader": {
     "cell_type": "markdown",
     "checksum": "0cfd2ec56d12331dd885b72b088cc114",
     "grade": false,
     "grade_id": "cell-5b6e840222340f2b",
     "locked": true,
     "schema_version": 3,
     "solution": false,
     "task": false
    },
    "tags": []
   },
   "source": [
    "# Homework 3\n",
    "\n",
    "## Please answer the questions below by entering and executing code in the box below each question.  \n",
    "\n",
    "## The goals of this assignment are to reinforce lessons about logical statements and plotting.  \n"
   ]
  },
  {
   "cell_type": "code",
   "execution_count": 2,
   "metadata": {},
   "outputs": [],
   "source": [
    "# import the modules you will need to do this assignment.  \n",
    "from matplotlib import pyplot as plt\n",
    "import numpy as np\n",
    "import pandas as pd"
   ]
  },
  {
   "cell_type": "markdown",
   "metadata": {},
   "source": [
    "## For this assignment you will organize some data and make some plots from an experiment on emotional priming. \n",
    "\n",
    "## This experiment replicates a well-known phenomenon of musical priming - the emotional valence of musical stimuli can influence the speed of information processing of words with the same emotional valence. \n",
    "\n",
    "### These studies have shown the presence of congruency effects—i.e., positive words are evaluated faster when preceded by positive music than negative music, and similarly for negative words and negative music.  \n",
    "\n",
    "### The purpose the data set collected here, was a COVID specific goal - to establish that this known effect could be measured through a crowd sourcing online platform, without needing for the subject to come in to the laboratory.  \n",
    "\n",
    "### Individuals listened to a 1 second clip of music that was independently rated as positive or negative.  They were then presented a word with either a positive or negative affect.  They had to response by classifying the word as positive or negative.  The dependent variable is the response time.  The prediction is that a negative affect music produces a faster response (smaller value of response time) for negative words than positive words, while the positive affect music produces a faster response (smaller value of response time) for positive words than negative words.  "
   ]
  },
  {
   "cell_type": "code",
   "execution_count": 3,
   "metadata": {},
   "outputs": [],
   "source": [
    "data = pd.read_excel('Emotional_Prime_Task_labeled.xlsx')"
   ]
  },
  {
   "cell_type": "code",
   "execution_count": 4,
   "metadata": {},
   "outputs": [
    {
     "data": {
      "text/plain": [
       "Index(['Unnamed: 0.1', 'Unnamed: 0', 'trial', 'stimulus', 'prime',\n",
       "       'prime_affect', 'word', 'word_affect', 'responsetime', 'accuracy'],\n",
       "      dtype='object')"
      ]
     },
     "execution_count": 4,
     "metadata": {},
     "output_type": "execute_result"
    }
   ],
   "source": [
    "data.keys()"
   ]
  },
  {
   "cell_type": "markdown",
   "metadata": {
    "deletable": false,
    "editable": false,
    "nbgrader": {
     "cell_type": "markdown",
     "checksum": "d0f4e2b76387efdc4cf9f4e11c2dadd4",
     "grade": false,
     "grade_id": "cell-4e48e537ade2ae8e",
     "locked": true,
     "schema_version": 3,
     "solution": false,
     "task": false
    },
    "tags": []
   },
   "source": [
    "### The data file has several important pieces of information.  For todays homework we will only use some of the information. \n",
    "\n",
    "* ### prime_affect indicates what type of music was played - positive or negative. \n",
    "* ### word_affect indicates what type of word was presented - positive or negative.  \n",
    "* ### responsetime gives the response time for each trial.  "
   ]
  },
  {
   "cell_type": "markdown",
   "metadata": {
    "deletable": false,
    "editable": false,
    "nbgrader": {
     "cell_type": "markdown",
     "checksum": "cfb84769f6e28b15480951ea1f231b45",
     "grade": false,
     "grade_id": "cell-63a8d9eb72f8bd3a",
     "locked": true,
     "schema_version": 3,
     "solution": false,
     "task": false
    },
    "tags": []
   },
   "source": [
    "### As a first step, copy the variables of interest into numpy arrays.  "
   ]
  },
  {
   "cell_type": "code",
   "execution_count": 5,
   "metadata": {},
   "outputs": [],
   "source": [
    "prime_affect = np.array(data['prime_affect'])\n",
    "word_affect = np.array(data['word_affect'])\n",
    "responsetime = np.array(data['responsetime'])"
   ]
  },
  {
   "cell_type": "markdown",
   "metadata": {
    "deletable": false,
    "editable": false,
    "nbgrader": {
     "cell_type": "markdown",
     "checksum": "f869cb29704e52c74025f523b575b6ec",
     "grade": false,
     "grade_id": "cell-4512a4e6ea3aa03e",
     "locked": true,
     "schema_version": 3,
     "solution": false,
     "task": false
    },
    "tags": []
   },
   "source": [
    "### Plot 1.  First, lets visualize if there is a general effect on response time of positive and negative music. Make a histogram that shows the distribution of response time for positive and negative music. The histogram should show two different colored histograms in the same plot, one for prime_affect that is positive and the other for prime_affect that is negative. \n",
    "\n",
    "### Hint:  Logical statements can be used with string variables.  Thus the statement, \n",
    "\n",
    "### `negativetrials = (prime_affect == 'negative')`\n",
    "\n",
    "### returns `True` when the prime_affect is 'negative' and `False` when prime_affect is 'positive'.  This boolean array can be used to index responsetime.  \n"
   ]
  },
  {
   "cell_type": "code",
   "execution_count": 33,
   "metadata": {
    "deletable": false,
    "nbgrader": {
     "cell_type": "code",
     "checksum": "eaf1c738ee7945c9a4df1012a316c306",
     "grade": true,
     "grade_id": "cell-cff309620dc26561",
     "locked": false,
     "points": 5,
     "schema_version": 3,
     "solution": true,
     "task": false
    },
    "tags": []
   },
   "outputs": [
    {
     "data": {
      "text/plain": [
       "<matplotlib.legend.Legend at 0x7faff00a3280>"
      ]
     },
     "execution_count": 33,
     "metadata": {},
     "output_type": "execute_result"
    },
    {
     "data": {
      "image/png": "[encoded data removed]",
      "text/plain": [
       "<Figure size 400x300 with 1 Axes>"
      ]
     },
     "metadata": {},
     "output_type": "display_data"
    }
   ],
   "source": [
    "positive_trials = (prime_affect == 'positive')\n",
    "negative_trials = (prime_affect == 'negative')\n",
    "\n",
    "pos_rT = responsetime[positive_trials]\n",
    "neg_rT = responsetime[negative_trials]\n",
    "RTs = [neg_rT,pos_rT]\n",
    "\n",
    "bins = np.arange(300,1500,100)\n",
    "fig = plt.figure(figsize = (4,3))\n",
    "ax = fig.add_axes([0,0,1,1])\n",
    "ax.hist(RTs,bins, color=('blue','red'))  #I sent the list containing all 2 arrays. \n",
    "ax.set_xlabel('Response Time (sec)')\n",
    "ax.set_ylabel('Number of Trials')\n",
    "plt.ylim([0, 400])\n",
    "ax.legend(labels = ['Negative', 'Positive'])"
   ]
  },
  {
   "cell_type": "markdown",
   "metadata": {
    "deletable": false,
    "editable": false,
    "nbgrader": {
     "cell_type": "markdown",
     "checksum": "907ad0deff32cb5e54237011c0fa1385",
     "grade": false,
     "grade_id": "cell-130fc329a7db4d4d",
     "locked": true,
     "schema_version": 3,
     "solution": false,
     "task": false
    },
    "tags": []
   },
   "source": [
    "### Plot 2.  Make a bar plot with error bars that shows the mean and standard deviation of response time for each of the four conditions of the experiment: (1) positive music with positive words, (2) positive music with negative words, (3) negative music with positive words, and (4) negative music with negative words.   We expect the matched conditions to produce faster responses than the unmatched conditions. \n",
    "\n",
    "### Hint: You can use Boolean Operators to combine logical statements. Thus the statement, \n",
    "\n",
    "`pos_pos_trials = (prime_affect == 'positive') & (word_affect == 'positive')` \n",
    "\n",
    "### indicates `True` for trials with 'positive' music prime and 'positive' word.  "
   ]
  },
  {
   "cell_type": "code",
   "execution_count": 50,
   "metadata": {
    "deletable": false,
    "nbgrader": {
     "cell_type": "code",
     "checksum": "51be5d46a9afb3ba00c9cf9fd36696eb",
     "grade": true,
     "grade_id": "cell-4dabd04388f9eadd",
     "locked": false,
     "points": 5,
     "schema_version": 3,
     "solution": true,
     "task": false
    },
    "tags": []
   },
   "outputs": [
    {
     "data": {
      "text/plain": [
       "Text(0.5, 1.0, 'Mean Times of Priming and Word Affect')"
      ]
     },
     "execution_count": 50,
     "metadata": {},
     "output_type": "execute_result"
    },
    {
     "data": {
      "image/png": "[encoded data removed]",
      "text/plain": [
       "<Figure size 640x480 with 1 Axes>"
      ]
     },
     "metadata": {},
     "output_type": "display_data"
    }
   ],
   "source": [
    "#index section\n",
    "double_pos_trials = responsetime[(prime_affect == 'positive') & (word_affect == 'positive')]\n",
    "double_neg_trials = responsetime[(prime_affect == 'negative') & (word_affect == 'negative')]\n",
    "pos_neg_trials = responsetime[(prime_affect == 'positive') & (word_affect == 'negative')]\n",
    "neg_pos_trials = responsetime[(prime_affect == 'negative') & (word_affect == 'positive')]\n",
    "\n",
    "#list creations\n",
    "mean_rt = list()\n",
    "std_rt = list() \n",
    "conditions = [\"Positive, Positive\", \"Negative, Negative\", \"Positive, Negative\", \"Negative, Positive\"]\n",
    "\n",
    "#mean calculations\n",
    "mean_rt.append(np.mean(double_pos_trials)) \n",
    "mean_rt.append(np.mean(double_neg_trials))\n",
    "mean_rt.append(np.mean(pos_neg_trials))\n",
    "mean_rt.append(np.mean(neg_pos_trials))\n",
    "\n",
    "#STD calculations\n",
    "std_rt.append(np.std(double_pos_trials)) \n",
    "std_rt.append(np.std(double_neg_trials))\n",
    "std_rt.append(np.std(pos_neg_trials))\n",
    "std_rt.append(np.std(neg_pos_trials))\n",
    "\n",
    "#plot\n",
    "fig = plt.figure()\n",
    "ax = fig.add_axes([0,0,1,1])\n",
    "ax.bar(conditions, mean_rt,color = 'green', yerr = std_rt,capsize = 5)\n",
    "ax.set_xlabel('Priming and Word Affects')\n",
    "ax.set_ylabel('Response Time')\n",
    "ax.set_title(\"Mean Times of Priming and Word Affect\")\n"
   ]
  }
 ],
 "metadata": {
  "interpreter": {
   "hash": "fda1d92c402c9d5e0550eab7f590eb1c0582e487619314e6aa12d68c281f0580"
  },
  "kernelspec": {
   "display_name": "Python 3 (ipykernel)",
   "language": "python",
   "name": "python3"
  },
  "language_info": {
   "codemirror_mode": {
    "name": "ipython",
    "version": 3
   },
   "file_extension": ".py",
   "mimetype": "text/x-python",
   "name": "python",
   "nbconvert_exporter": "python",
   "pygments_lexer": "ipython3",
   "version": "3.10.9"
  }
 },
 "nbformat": 4,
 "nbformat_minor": 4
}
