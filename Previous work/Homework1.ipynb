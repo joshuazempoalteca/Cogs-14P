{
 "cells": [
  {
   "cell_type": "markdown",
   "id": "2bd0a331",
   "metadata": {},
   "source": [
    "Before you turn this problem in, make sure everything runs as expected. First, **restart the kernel** (in the menubar, select Kernel$\\rightarrow$Restart) and then **run all cells** (in the menubar, select Cell$\\rightarrow$Run All).\n",
    "\n",
    "Make sure you fill in any place that says `YOUR CODE HERE` or \"YOUR ANSWER HERE\", as well as your name and collaborators below:"
   ]
  },
  {
   "cell_type": "code",
   "execution_count": 1,
   "id": "91f6250a",
   "metadata": {},
   "outputs": [],
   "source": [
    "NAME = \"Joshua Zempoalteca\"\n",
    "COLLABORATORS = \"NA\""
   ]
  },
  {
   "cell_type": "markdown",
   "id": "0a18155c",
   "metadata": {},
   "source": [
    "---"
   ]
  },
  {
   "cell_type": "markdown",
   "id": "e0c49111-66a5-43b8-9e9f-7feec82fe000",
   "metadata": {
    "deletable": false,
    "editable": false,
    "nbgrader": {
     "cell_type": "markdown",
     "checksum": "cfc8c4d942eb091e98ec872249915c44",
     "grade": false,
     "grade_id": "cell-4818f40189ea377e",
     "locked": true,
     "schema_version": 3,
     "solution": false,
     "task": false
    },
    "tags": []
   },
   "source": [
    "# Homework 1  (5 pts)\n",
    "\n",
    "### This homework is a mini homework with a few examples of how to work with python variables, expression, and lists, in order to test the jupyter lab environment in each of your computers, and my automatic grading systems. \n",
    "### In order for automatic grading and validation to work, it is very important that you make use of the **exact variable names** specified in the problem statement.  \n",
    "### I will always place these variable names that must be used for automatic grading in bold \n",
    "### Let's get started! "
   ]
  },
  {
   "cell_type": "markdown",
   "id": "78ec96df-d9a0-4a26-a54e-2241227a087e",
   "metadata": {
    "deletable": false,
    "editable": false,
    "nbgrader": {
     "cell_type": "markdown",
     "checksum": "077b5ad0f607bb29b308cf4c02a8469e",
     "grade": false,
     "grade_id": "cell-62adaf9a6178dfad",
     "locked": true,
     "schema_version": 3,
     "solution": false,
     "task": false
    },
    "tags": []
   },
   "source": [
    "### 1. Create a variable named **My_First_Variable** and set its value to 2.  (1 pt)"
   ]
  },
  {
   "cell_type": "code",
   "execution_count": 2,
   "id": "e02d67a2-e225-47a3-93ab-910ea90153d4",
   "metadata": {
    "deletable": false,
    "nbgrader": {
     "cell_type": "code",
     "checksum": "48945e6eac33cee3fdbc39fef58f1ba2",
     "grade": false,
     "grade_id": "cell-2745506731a213ef",
     "locked": false,
     "schema_version": 3,
     "solution": true,
     "task": false
    },
    "tags": []
   },
   "outputs": [],
   "source": [
    "My_First_Variable = 2"
   ]
  },
  {
   "cell_type": "markdown",
   "id": "0554c74f-dbe3-4ab8-a544-64ef00b81f78",
   "metadata": {
    "deletable": false,
    "editable": false,
    "nbgrader": {
     "cell_type": "markdown",
     "checksum": "95856bd0989ae77438409b0165f0e805",
     "grade": false,
     "grade_id": "cell-3ae6b995fbe7330a",
     "locked": true,
     "schema_version": 3,
     "solution": false,
     "task": false
    },
    "tags": []
   },
   "source": [
    "### We test solutions using assert statements.  For fun, try to do this problem correctly and incorrectly and see what it does when you push the validation button above.  "
   ]
  },
  {
   "cell_type": "code",
   "execution_count": 3,
   "id": "457a9470-8d37-46b5-a15f-9435ef96bd65",
   "metadata": {
    "deletable": false,
    "editable": false,
    "nbgrader": {
     "cell_type": "code",
     "checksum": "ab5a12f97ac81e7016e3b2bec976cdcb",
     "grade": true,
     "grade_id": "cell-a1e9fdf4667bd8d6",
     "locked": true,
     "points": 1,
     "schema_version": 3,
     "solution": false,
     "task": false
    },
    "tags": []
   },
   "outputs": [],
   "source": [
    "assert My_First_Variable == 2"
   ]
  },
  {
   "cell_type": "markdown",
   "id": "62190856-30e3-4416-ba1c-d656b50152f1",
   "metadata": {},
   "source": [
    "### 2. Create a variable **v** and set its value equal to 0.5. Compute the variable **w** using the following equation $\\textbf{w} = 2\\frac{1-\\textbf{v}}{1+\\textbf{v}}$ (1 pt)\n",
    "### A useful technique here is to make use of parenthesis to control the order of operations. If you place (1-v) and and (1+v) insider parenthesis, they will be operated on first, before dividing.  \n",
    "### You can also feel free to make intermediate variables e.g., x = 1-v and y = 1+v if that helps you organize the solution.  "
   ]
  },
  {
   "cell_type": "code",
   "execution_count": 4,
   "id": "0f2ecbbe-48bb-48d2-8929-99d0f3e157c1",
   "metadata": {
    "deletable": false,
    "nbgrader": {
     "cell_type": "code",
     "checksum": "7385213d5ddbf4efa1b05ddadd828e79",
     "grade": false,
     "grade_id": "cell-989cfd2c6b242c38",
     "locked": false,
     "schema_version": 3,
     "solution": true,
     "task": false
    },
    "tags": []
   },
   "outputs": [],
   "source": [
    "v = 0.5\n",
    "w = 2*((1-v)/(1+v))"
   ]
  },
  {
   "cell_type": "code",
   "execution_count": 5,
   "id": "781ed4c1-5122-4a57-821f-1e7929368c0a",
   "metadata": {
    "deletable": false,
    "editable": false,
    "nbgrader": {
     "cell_type": "code",
     "checksum": "4043bdb92e61bdbaa0a8927cff24d150",
     "grade": true,
     "grade_id": "cell-2d6405744fe5ae36",
     "locked": true,
     "points": 1,
     "schema_version": 3,
     "solution": false,
     "task": false
    },
    "tags": []
   },
   "outputs": [],
   "source": [
    "assert v == 0.5\n",
    "assert w == 2/3"
   ]
  },
  {
   "cell_type": "markdown",
   "id": "d5fce324-086b-49da-adea-e3c7eefcfd9c",
   "metadata": {},
   "source": [
    "### You can run the validate at any point.  Try it now.  "
   ]
  },
  {
   "cell_type": "markdown",
   "id": "3a45a41c-6a27-453f-8d26-769a8b62b878",
   "metadata": {
    "deletable": false,
    "editable": false,
    "nbgrader": {
     "cell_type": "markdown",
     "checksum": "b00e1b787f8ddd2f31cadb6f1f69271b",
     "grade": false,
     "grade_id": "cell-6755ea7c7fe7a806",
     "locked": true,
     "schema_version": 3,
     "solution": false,
     "task": false
    },
    "tags": []
   },
   "source": [
    "### 3. Create a list named **days** containing the days of the week, starting on 'Monday' and ending on 'Sunday' (1 pts)"
   ]
  },
  {
   "cell_type": "code",
   "execution_count": 6,
   "id": "282f930a-47a5-43ff-ba0e-c40d4a986bd4",
   "metadata": {
    "deletable": false,
    "nbgrader": {
     "cell_type": "code",
     "checksum": "a6240b6f3d0c8e1e292af6c8d859951b",
     "grade": false,
     "grade_id": "cell-f5f3ef2fa3517087",
     "locked": false,
     "schema_version": 3,
     "solution": true,
     "task": false
    },
    "tags": []
   },
   "outputs": [],
   "source": [
    "days = [ \"Monday\", \"Tuesday\", \"Wednesday\", \"Thursday\", \"Friday\", \"Saturday\", \"Sunday\" ]"
   ]
  },
  {
   "cell_type": "code",
   "execution_count": 7,
   "id": "6805038b-6c3b-45e8-841a-187b6dc1d37b",
   "metadata": {
    "deletable": false,
    "editable": false,
    "nbgrader": {
     "cell_type": "code",
     "checksum": "1a91adbecc03fd2c412ec4760db441e5",
     "grade": true,
     "grade_id": "cell-e97c023c69ed93a6",
     "locked": true,
     "points": 1,
     "schema_version": 3,
     "solution": false,
     "task": false
    },
    "tags": []
   },
   "outputs": [],
   "source": [
    "assert len(days) == 7\n",
    "assert days[0] == 'Monday'\n",
    "assert days[6] == 'Sunday'"
   ]
  },
  {
   "cell_type": "markdown",
   "id": "3a11e3d6-74c9-4909-87c3-4b8ad8cb0ec2",
   "metadata": {
    "deletable": false,
    "editable": false,
    "nbgrader": {
     "cell_type": "markdown",
     "checksum": "4c9e18651accd6852213bd833588cf86",
     "grade": false,
     "grade_id": "cell-a5e21e8c567b3e8c",
     "locked": true,
     "schema_version": 3,
     "solution": false,
     "task": false
    },
    "tags": []
   },
   "source": [
    "### 4. Use indexing to create two new lists, **Weekend** which contain 'Saturday' and 'Sunday', and **Weekdays** which contain the other 5 working days of the week. (2 pts)"
   ]
  },
  {
   "cell_type": "code",
   "execution_count": 8,
   "id": "159abcc6-13e2-481a-b8cd-f41396558fd8",
   "metadata": {
    "deletable": false,
    "nbgrader": {
     "cell_type": "code",
     "checksum": "a4facc1ab39250a46e351b207fd0a0c6",
     "grade": false,
     "grade_id": "cell-cd3015af9040c09b",
     "locked": false,
     "schema_version": 3,
     "solution": true,
     "task": false
    },
    "tags": []
   },
   "outputs": [],
   "source": [
    "Weekend = [ \"Saturday\", \"Sunday\" ]\n",
    "Weekdays = [\"Monday\", \"Tuesday\", \"Wednesday\", \"Thursday\", \"Friday\"]"
   ]
  },
  {
   "cell_type": "code",
   "execution_count": 9,
   "id": "a57e3c7a-4ed5-4dd0-b67c-2e8b766784f7",
   "metadata": {
    "deletable": false,
    "editable": false,
    "nbgrader": {
     "cell_type": "code",
     "checksum": "3c0a93dfdc5ac7dc2194dec99a701afb",
     "grade": true,
     "grade_id": "cell-1794b59379065020",
     "locked": true,
     "points": 1,
     "schema_version": 3,
     "solution": false,
     "task": false
    },
    "tags": []
   },
   "outputs": [],
   "source": [
    "assert len(Weekend) == 2"
   ]
  },
  {
   "cell_type": "code",
   "execution_count": 10,
   "id": "cffdbfa1-4494-4a26-bfa8-e0596a38cb2f",
   "metadata": {
    "deletable": false,
    "editable": false,
    "nbgrader": {
     "cell_type": "code",
     "checksum": "538cbe0b51e0d3e9d13a04ed0399279f",
     "grade": true,
     "grade_id": "cell-507689ec563fd49b",
     "locked": true,
     "points": 1,
     "schema_version": 3,
     "solution": false,
     "task": false
    },
    "tags": []
   },
   "outputs": [],
   "source": [
    "assert len(Weekdays) == 5"
   ]
  }
 ],
 "metadata": {
  "kernelspec": {
   "display_name": "Python 3 (ipykernel)",
   "language": "python",
   "name": "python3"
  },
  "language_info": {
   "codemirror_mode": {
    "name": "ipython",
    "version": 3
   },
   "file_extension": ".py",
   "mimetype": "text/x-python",
   "name": "python",
   "nbconvert_exporter": "python",
   "pygments_lexer": "ipython3",
   "version": "3.10.9"
  },
  "vscode": {
   "interpreter": {
    "hash": "5632ee73dc041786d9cc7d38bc4e940575f68965f6460d21dc188809047d3051"
   }
  }
 },
 "nbformat": 4,
 "nbformat_minor": 5
}
