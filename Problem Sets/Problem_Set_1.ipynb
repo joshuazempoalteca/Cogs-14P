{
 "cells": [
  {
   "cell_type": "markdown",
   "id": "1b61bb10",
   "metadata": {},
   "source": [
    "Before you turn this problem in, make sure everything runs as expected. First, **restart the kernel** (in the menubar, select Kernel$\\rightarrow$Restart) and then **run all cells** (in the menubar, select Cell$\\rightarrow$Run All).\n",
    "\n",
    "Make sure you fill in any place that says `YOUR CODE HERE` or \"YOUR ANSWER HERE\", as well as your name and collaborators below:"
   ]
  },
  {
   "cell_type": "code",
   "execution_count": null,
   "id": "e7468029",
   "metadata": {},
   "outputs": [],
   "source": [
    "NAME = \"Joshua Zempoalteca\"\n",
    "COLLABORATORS = \"\""
   ]
  },
  {
   "cell_type": "markdown",
   "id": "3d2c9591",
   "metadata": {},
   "source": [
    "---"
   ]
  },
  {
   "cell_type": "markdown",
   "id": "a9bfcbd5-7ea2-41b2-a847-f4327e17ab82",
   "metadata": {
    "deletable": false,
    "editable": false,
    "nbgrader": {
     "cell_type": "markdown",
     "checksum": "9b2af702829390aa657e7cf922c89716",
     "grade": false,
     "grade_id": "cell-cd48ef6ae47d39c2",
     "locked": true,
     "schema_version": 3,
     "solution": false,
     "task": false
    },
    "tags": []
   },
   "source": [
    "# **Problem Set 1**:  List, Arrays, and Indexing Methods\n",
    "\n",
    "### This is a problem set.  You can work on it with the help of your classmates, Google, or ask me any questions you would like. \n",
    "### There are some new methods introduced in the problem set. \n",
    "### I encourage discussion during these problem sets.  Todays problem set is relatively short.  \n",
    "### The problem set is due at 2:40 pm.  We will spend the last 10 minutes of class briefly looking over my answers.  "
   ]
  },
  {
   "cell_type": "code",
   "execution_count": 31,
   "id": "1a710a17-1378-4a7a-85b7-f518ed4d0bca",
   "metadata": {},
   "outputs": [],
   "source": [
    "# your going to need numpy to do this assignment \n",
    "import numpy as np \n",
    "#frankly, in this class, you will always need numpy.  "
   ]
  },
  {
   "cell_type": "markdown",
   "id": "78efdb25-4e61-431f-ae3e-e7380323e6e8",
   "metadata": {
    "deletable": false,
    "editable": false,
    "nbgrader": {
     "cell_type": "markdown",
     "checksum": "52ba8d7bd6102ee3015df0ea595945e0",
     "grade": false,
     "grade_id": "cell-e6cc6ab44bf6fe88",
     "locked": true,
     "schema_version": 3,
     "solution": false,
     "task": false
    },
    "tags": []
   },
   "source": [
    "1. ### Create a variable **v** which is a list that contains the values 7, 16, 15, 14, 22.  Create a variable **w** which contains the values -1,-0.5,0,0.5,1 "
   ]
  },
  {
   "cell_type": "code",
   "execution_count": 32,
   "id": "02178b5d-c14b-4328-8ce4-62f1d4fdc11b",
   "metadata": {
    "deletable": false,
    "nbgrader": {
     "cell_type": "code",
     "checksum": "7e97dc94485c3380a63d6771cd5da6bd",
     "grade": false,
     "grade_id": "cell-73c2a41fa91bd822",
     "locked": false,
     "schema_version": 3,
     "solution": true,
     "task": false
    },
    "tags": []
   },
   "outputs": [],
   "source": [
    "# YOUR CODE HERE\n",
    "v = [7, 16, 15, 14, 22]\n",
    "w = [-1,-0.5,0,0.5,1]"
   ]
  },
  {
   "cell_type": "code",
   "execution_count": 33,
   "id": "5694699a-e1ef-45f4-a9ed-6c86a220e41f",
   "metadata": {
    "deletable": false,
    "editable": false,
    "nbgrader": {
     "cell_type": "code",
     "checksum": "4b8198813e75c9fd4aea134f60666df8",
     "grade": true,
     "grade_id": "cell-8d1778e1145a2f3c",
     "locked": true,
     "points": 1,
     "schema_version": 3,
     "solution": false,
     "task": false
    },
    "tags": []
   },
   "outputs": [],
   "source": [
    "assert len(v) == 5\n",
    "assert len(w) == 5\n",
    "assert v[2] == 15\n",
    "assert w[2] == 0 "
   ]
  },
  {
   "cell_type": "markdown",
   "id": "6e0544f0-ccf0-4139-ba73-379c087a3eae",
   "metadata": {
    "deletable": false,
    "editable": false,
    "nbgrader": {
     "cell_type": "markdown",
     "checksum": "ad86b21c30a38e6d5915c886dfe0f0c7",
     "grade": false,
     "grade_id": "cell-a87322a5df0670a9",
     "locked": true,
     "schema_version": 3,
     "solution": false,
     "task": false
    },
    "tags": []
   },
   "source": [
    "2. ### Create a new variable **x** which is the product of 14 and -0.5, by appropriately indexing into **v** and **w**.   "
   ]
  },
  {
   "cell_type": "code",
   "execution_count": 34,
   "id": "7c1b6a60-3058-45c5-a46d-b71e3110aa1d",
   "metadata": {
    "deletable": false,
    "nbgrader": {
     "cell_type": "code",
     "checksum": "14e764bfcaa716367bfb00dcb3a88c3e",
     "grade": false,
     "grade_id": "cell-18b63f3fdc24973e",
     "locked": false,
     "schema_version": 3,
     "solution": true,
     "task": false
    },
    "tags": []
   },
   "outputs": [],
   "source": [
    "# YOUR CODE HERE\n",
    "x = v[-2] * w[1]"
   ]
  },
  {
   "cell_type": "code",
   "execution_count": 35,
   "id": "b46673e3-f1a5-42fa-b9c3-8718744ad201",
   "metadata": {
    "deletable": false,
    "editable": false,
    "nbgrader": {
     "cell_type": "code",
     "checksum": "803446ea156bb048b3f284e4b01a3e4e",
     "grade": true,
     "grade_id": "cell-221caebb0c8f6642",
     "locked": true,
     "points": 1,
     "schema_version": 3,
     "solution": false,
     "task": false
    },
    "tags": []
   },
   "outputs": [],
   "source": [
    "assert x == -7"
   ]
  },
  {
   "cell_type": "markdown",
   "id": "0fa05e55-ae88-4eed-bec9-22dc9ad93513",
   "metadata": {
    "deletable": false,
    "editable": false,
    "nbgrader": {
     "cell_type": "markdown",
     "checksum": "ed8b64e15b2a94c7019e51dd71239c7d",
     "grade": false,
     "grade_id": "cell-b644d8b81c6b8b1d",
     "locked": true,
     "schema_version": 3,
     "solution": false,
     "task": false
    },
    "tags": []
   },
   "source": [
    "3. ### Create a new list **y** which contains the first 3 elements of v and a new list **z** which containes the middle 3 entries (2nd to 4th) of w.  \n"
   ]
  },
  {
   "cell_type": "code",
   "execution_count": 46,
   "id": "4dee516e-22b4-4463-9c9e-68f9218458b7",
   "metadata": {
    "deletable": false,
    "nbgrader": {
     "cell_type": "code",
     "checksum": "1db254617d7d9a3183e3475e547fe9c2",
     "grade": false,
     "grade_id": "cell-263425207e7a0916",
     "locked": false,
     "schema_version": 3,
     "solution": true,
     "task": false
    },
    "tags": []
   },
   "outputs": [],
   "source": [
    "# YOUR CODE HERE\n",
    "y = v[0:3]\n",
    "z = w[1:4]"
   ]
  },
  {
   "cell_type": "code",
   "execution_count": 47,
   "id": "63391fb4-5dc9-4769-a589-5fe94e8148aa",
   "metadata": {
    "deletable": false,
    "editable": false,
    "nbgrader": {
     "cell_type": "code",
     "checksum": "c01c980c3318ae68d346d843fce59091",
     "grade": true,
     "grade_id": "cell-3b992638a13bd153",
     "locked": true,
     "points": 1,
     "schema_version": 3,
     "solution": false,
     "task": false
    },
    "tags": []
   },
   "outputs": [],
   "source": [
    "assert len(y) == 3\n",
    "assert len(z) == 3"
   ]
  },
  {
   "cell_type": "markdown",
   "id": "7fe856bb-2dfe-4cb2-a967-3a83625a7a22",
   "metadata": {
    "deletable": false,
    "editable": false,
    "nbgrader": {
     "cell_type": "markdown",
     "checksum": "286c3ca9e74ab11af598011c36c47271",
     "grade": false,
     "grade_id": "cell-4fc906b59e282149",
     "locked": true,
     "schema_version": 3,
     "solution": false,
     "task": false
    },
    "tags": []
   },
   "source": [
    "4. ### Merge **y** and **z** to make a new list **yz** which contains the entries of **y** followed by the entries of **z**\n"
   ]
  },
  {
   "cell_type": "code",
   "execution_count": 48,
   "id": "bee96f7f-618b-40a7-98a9-0789b0baa449",
   "metadata": {
    "deletable": false,
    "nbgrader": {
     "cell_type": "code",
     "checksum": "c5e445143b274922bd8d9dfa5a9fafe6",
     "grade": false,
     "grade_id": "cell-d5b94f102e7b6267",
     "locked": false,
     "schema_version": 3,
     "solution": true,
     "task": false
    },
    "tags": []
   },
   "outputs": [],
   "source": [
    "# YOUR CODE HERE\n",
    "yz = y + z"
   ]
  },
  {
   "cell_type": "code",
   "execution_count": 43,
   "id": "fd1f2ae6-2a7d-46d7-963d-cab1e081d597",
   "metadata": {
    "deletable": false,
    "editable": false,
    "nbgrader": {
     "cell_type": "code",
     "checksum": "d399d3a1e0fad7a7751df6851f96a55a",
     "grade": true,
     "grade_id": "cell-3f99586982b85245",
     "locked": true,
     "points": 1,
     "schema_version": 3,
     "solution": false,
     "task": false
    },
    "tags": []
   },
   "outputs": [],
   "source": [
    "assert yz[3] == w[2]"
   ]
  },
  {
   "cell_type": "markdown",
   "id": "d0a3f7e4-de31-4f32-9d92-505f9aff5077",
   "metadata": {
    "deletable": false,
    "editable": false,
    "nbgrader": {
     "cell_type": "markdown",
     "checksum": "8df9de03795ecbccc2fe85142caa1f02",
     "grade": false,
     "grade_id": "cell-bcdf403318a00e9e",
     "locked": true,
     "schema_version": 3,
     "solution": false,
     "task": false
    },
    "tags": []
   },
   "source": [
    "## **INDEXING TO THE END OF A LIST**  \n",
    "### When indexing into a list or array, sometimes we want to get all the elements from a certain starting point to the end of the array. \n",
    "### OF course this is easy if you know how many elements there are in the array. \n",
    "### Python supports indexing to the end of an array. \n",
    "### e.g., to start from the 3rd element and go to the end of **v**, "
   ]
  },
  {
   "cell_type": "code",
   "execution_count": 50,
   "id": "f3bf1a25-7e2e-4031-b5d2-107721407350",
   "metadata": {},
   "outputs": [
    {
     "name": "stdout",
     "output_type": "stream",
     "text": [
      "[15, 14, 22]\n"
     ]
    }
   ],
   "source": [
    "v3 = v[2:] #notice i provide the starting index (2) but no ending index. \n",
    "print(v3)"
   ]
  },
  {
   "cell_type": "markdown",
   "id": "70ac4f0e-f796-4bd4-bc85-405710fd98a4",
   "metadata": {
    "deletable": false,
    "editable": false,
    "nbgrader": {
     "cell_type": "markdown",
     "checksum": "ce805a24bcbe5b06feab3bf7843f941a",
     "grade": false,
     "grade_id": "cell-bb10588453b30d5f",
     "locked": true,
     "schema_version": 3,
     "solution": false,
     "task": false
    },
    "tags": []
   },
   "source": [
    "## **INDEXING BACKWARDS FROM THE END OF A LIST**  \n",
    "### When indexing into list or arrays, we sometimes want to get the last element, or a certain number of elements of the list or array.  \n",
    "### Of course if you know how long the array is in advance, you can easily solve this.\n",
    "### Python supports indexing from the end of an array using negative indexes. \n",
    "### e.g., to get the last element of w "
   ]
  },
  {
   "cell_type": "code",
   "execution_count": 51,
   "id": "66ab9b66-b735-46e5-9ede-f5c91c9d8917",
   "metadata": {},
   "outputs": [
    {
     "name": "stdout",
     "output_type": "stream",
     "text": [
      "1\n"
     ]
    }
   ],
   "source": [
    "last_w = w[-1]\n",
    "print(last_w)\n"
   ]
  },
  {
   "cell_type": "markdown",
   "id": "20f2e9a7-d705-4086-9d6b-7f89de27c911",
   "metadata": {
    "deletable": false,
    "editable": false,
    "nbgrader": {
     "cell_type": "markdown",
     "checksum": "4ff8cfb3d8debcbd4f89996b9f86dcf3",
     "grade": false,
     "grade_id": "cell-4686aeb28a1a507f",
     "locked": true,
     "schema_version": 3,
     "solution": false,
     "task": false
    },
    "tags": []
   },
   "source": [
    "### To get the last 3 elements of w "
   ]
  },
  {
   "cell_type": "code",
   "execution_count": 52,
   "id": "4f3b4be8-2e2b-472e-9908-3c874d8d8657",
   "metadata": {},
   "outputs": [
    {
     "name": "stdout",
     "output_type": "stream",
     "text": [
      "[0, 0.5, 1]\n"
     ]
    }
   ],
   "source": [
    "last3_w = w[-3:]\n",
    "print(last3_w)"
   ]
  },
  {
   "cell_type": "markdown",
   "id": "87b785b6-8618-49e6-9050-63e3eaf25fa1",
   "metadata": {
    "deletable": false,
    "editable": false,
    "nbgrader": {
     "cell_type": "markdown",
     "checksum": "ea7297ad06fc6ba0f20b29d2e1cd9e3c",
     "grade": false,
     "grade_id": "cell-158773da9b456b8c",
     "locked": true,
     "schema_version": 3,
     "solution": false,
     "task": false
    },
    "tags": []
   },
   "source": [
    "5. ### Using negative indexing, make a new variable **last_vw** which is a new list constructed by merging the last *2* elements of **v** with the last *4* elements of **w**"
   ]
  },
  {
   "cell_type": "code",
   "execution_count": 57,
   "id": "35710738-d619-48a9-9e88-1e903beb1e35",
   "metadata": {
    "deletable": false,
    "nbgrader": {
     "cell_type": "code",
     "checksum": "da2c9473787a7a07975709be0452a7f0",
     "grade": false,
     "grade_id": "cell-6af9da420e7531f2",
     "locked": false,
     "schema_version": 3,
     "solution": true,
     "task": false
    },
    "tags": []
   },
   "outputs": [
    {
     "name": "stdout",
     "output_type": "stream",
     "text": [
      "[14, 22, -0.5, 0, 0.5, 1]\n"
     ]
    }
   ],
   "source": [
    "last_vw = v[-2:] + w[-4:]\n",
    "print(last_vw)"
   ]
  },
  {
   "cell_type": "code",
   "execution_count": 58,
   "id": "c5c4c874-174a-4f70-b871-e929fe535fb2",
   "metadata": {
    "deletable": false,
    "editable": false,
    "nbgrader": {
     "cell_type": "code",
     "checksum": "2ede69cc6fd277c91ff94a8c0f526951",
     "grade": true,
     "grade_id": "cell-5363f5900c1f82b9",
     "locked": true,
     "points": 1,
     "schema_version": 3,
     "solution": false,
     "task": false
    },
    "tags": []
   },
   "outputs": [],
   "source": [
    "assert last_vw[0] == 14\n",
    "assert last_vw[-1] == 1"
   ]
  },
  {
   "cell_type": "markdown",
   "id": "6d54ef80-90e6-44c2-adf2-c69a1c815fee",
   "metadata": {
    "deletable": false,
    "editable": false,
    "nbgrader": {
     "cell_type": "markdown",
     "checksum": "e76c8bd7a743cb9a1492e0d22244d67c",
     "grade": false,
     "grade_id": "cell-cc433d6683d5fed7",
     "locked": true,
     "schema_version": 3,
     "solution": false,
     "task": false
    },
    "tags": []
   },
   "source": [
    "6. ### Convert the lists **v** and **w** into a numpy array with the same variable name using the `array` function.  Compute a new array **vxw** by multiplying **v** and **w**.  "
   ]
  },
  {
   "cell_type": "code",
   "execution_count": 59,
   "id": "575b44fc-51f7-4a0c-94be-43c96531dcbf",
   "metadata": {
    "deletable": false,
    "nbgrader": {
     "cell_type": "code",
     "checksum": "c00fbbc22dcb93c02f331bdef248bf2e",
     "grade": false,
     "grade_id": "cell-e09606133e1769d4",
     "locked": false,
     "schema_version": 3,
     "solution": true,
     "task": false
    },
    "tags": []
   },
   "outputs": [],
   "source": [
    "v = np.array(v)\n",
    "w = np.array(w)\n",
    "vxw = v * w"
   ]
  },
  {
   "cell_type": "code",
   "execution_count": 60,
   "id": "aa83df08-3fa4-4e15-86c8-d374676c5985",
   "metadata": {
    "deletable": false,
    "editable": false,
    "nbgrader": {
     "cell_type": "code",
     "checksum": "c6fc37b93ae2e7a898fe73c5082f29b3",
     "grade": true,
     "grade_id": "cell-0e5bf107194cd0d1",
     "locked": true,
     "points": 1,
     "schema_version": 3,
     "solution": false,
     "task": false
    },
    "tags": []
   },
   "outputs": [],
   "source": [
    "assert vxw[0] == -7\n",
    "assert vxw[-1] == 22 "
   ]
  },
  {
   "cell_type": "markdown",
   "id": "ab28899c-74db-4edc-b8e4-e8acc89ebee3",
   "metadata": {
    "deletable": false,
    "editable": false,
    "nbgrader": {
     "cell_type": "markdown",
     "checksum": "eb0f6ee135a8427f1fbf1e0b3825a166",
     "grade": false,
     "grade_id": "cell-bf5cbd5ffe10c544",
     "locked": true,
     "schema_version": 3,
     "solution": false,
     "task": false
    },
    "tags": []
   },
   "source": [
    "7. Create a numpy array named **z** with 10 integers, all with value -100 "
   ]
  },
  {
   "cell_type": "code",
   "execution_count": 62,
   "id": "26256c8e-3889-472b-a6ea-fb57dc239b37",
   "metadata": {
    "deletable": false,
    "nbgrader": {
     "cell_type": "code",
     "checksum": "8852b96627cb6e7d3607a50db5e313a7",
     "grade": false,
     "grade_id": "cell-740ba0b12d446160",
     "locked": false,
     "schema_version": 3,
     "solution": true,
     "task": false
    },
    "tags": []
   },
   "outputs": [],
   "source": [
    "# YOUR CODE HERE\n",
    "z = np.linspace(-100,-100, 10)"
   ]
  },
  {
   "cell_type": "code",
   "execution_count": 63,
   "id": "7b4663b8-8af8-4d01-b11e-e83d8512e76b",
   "metadata": {
    "deletable": false,
    "editable": false,
    "nbgrader": {
     "cell_type": "code",
     "checksum": "10b0d0dc62c30bf182f2ac5154e67a3e",
     "grade": true,
     "grade_id": "cell-205673e4c080b846",
     "locked": true,
     "points": 1,
     "schema_version": 3,
     "solution": false,
     "task": false
    },
    "tags": []
   },
   "outputs": [],
   "source": [
    "assert z.size == 10\n",
    "assert z[0] == -100"
   ]
  },
  {
   "cell_type": "markdown",
   "id": "4e6e8b88-96b2-4bed-8e1d-aa8944af5815",
   "metadata": {
    "deletable": false,
    "editable": false,
    "nbgrader": {
     "cell_type": "markdown",
     "checksum": "faf3a8bd0c0e9321516c0e65253d47cc",
     "grade": false,
     "grade_id": "cell-5e674349bb02ee7d",
     "locked": true,
     "schema_version": 3,
     "solution": false,
     "task": false
    },
    "tags": []
   },
   "source": [
    "8. Create an array named **digit_2** containing the whole numbers from 10 to 99, including 99"
   ]
  },
  {
   "cell_type": "code",
   "execution_count": 80,
   "id": "a040c02f-b7b3-4512-9ecd-1f00ed1c7da9",
   "metadata": {
    "deletable": false,
    "nbgrader": {
     "cell_type": "code",
     "checksum": "eab55d80e20cce8e4d3f962512a8f335",
     "grade": false,
     "grade_id": "cell-85940fb721af412d",
     "locked": false,
     "schema_version": 3,
     "solution": true,
     "task": false
    },
    "tags": []
   },
   "outputs": [],
   "source": [
    "# YOUR CODE HERE\n",
    "digit_2 = np.arange(10,100,1)"
   ]
  },
  {
   "cell_type": "code",
   "execution_count": 81,
   "id": "b2325805-7039-4bf1-a014-11e78f6d8a62",
   "metadata": {
    "deletable": false,
    "editable": false,
    "nbgrader": {
     "cell_type": "code",
     "checksum": "de19b588e08e304e0618c3b29b85b984",
     "grade": true,
     "grade_id": "cell-f9e6ed8f985e86d6",
     "locked": true,
     "points": 1,
     "schema_version": 3,
     "solution": false,
     "task": false
    },
    "tags": []
   },
   "outputs": [],
   "source": [
    "assert digit_2[0] == 10\n",
    "assert digit_2[-1] == 99"
   ]
  },
  {
   "cell_type": "markdown",
   "id": "e2d9f32a-adfd-4985-b46f-ea4c29bf9e92",
   "metadata": {
    "deletable": false,
    "editable": false,
    "nbgrader": {
     "cell_type": "markdown",
     "checksum": "4ee05369f883d6ae5d60eca14111775c",
     "grade": false,
     "grade_id": "cell-b1fda8cc8c77c622",
     "locked": true,
     "schema_version": 3,
     "solution": false,
     "task": false
    },
    "tags": []
   },
   "source": [
    "9. Make a new array **small_2**  which copies all of the values in **digit_2** between 10 and 20 using indexing, including 10 but *not* including 20.  \n",
    "Make another array called **big_2** which copies all of the values in **digit_2** between 90 and 99 using indexing including 90 and 99.  "
   ]
  },
  {
   "cell_type": "code",
   "execution_count": 82,
   "id": "eda766d1-cd87-4f81-b3c2-cf1027e38af9",
   "metadata": {
    "deletable": false,
    "nbgrader": {
     "cell_type": "code",
     "checksum": "280a4f463a35bd72a6b2460c98b2e900",
     "grade": false,
     "grade_id": "cell-5f68b1d27ee7f588",
     "locked": false,
     "schema_version": 3,
     "solution": true,
     "task": false
    },
    "tags": []
   },
   "outputs": [],
   "source": [
    "# YOUR CODE HERE\n",
    "small_2= digit_2[0:10]\n",
    "big_2 = digit_2[80:90]"
   ]
  },
  {
   "cell_type": "code",
   "execution_count": 83,
   "id": "f2ffa0e7-d5ec-4d4b-af07-519a93851761",
   "metadata": {
    "deletable": false,
    "editable": false,
    "nbgrader": {
     "cell_type": "code",
     "checksum": "6cb42f7d149082544048653b31ed9682",
     "grade": true,
     "grade_id": "cell-75d2b48eda06f112",
     "locked": true,
     "points": 1,
     "schema_version": 3,
     "solution": false,
     "task": false
    },
    "tags": []
   },
   "outputs": [],
   "source": [
    "assert small_2[0] == 10\n",
    "assert small_2[-1] == 19\n",
    "assert big_2[0] == 90\n",
    "assert big_2[-1] == 99"
   ]
  },
  {
   "cell_type": "markdown",
   "id": "eca7102e-3cf6-46eb-8888-cc595807446c",
   "metadata": {
    "deletable": false,
    "editable": false,
    "nbgrader": {
     "cell_type": "markdown",
     "checksum": "05119bdd680b42a141a7b10995249287",
     "grade": false,
     "grade_id": "cell-eefed24f8fbf63dc",
     "locked": true,
     "schema_version": 3,
     "solution": false,
     "task": false
    },
    "tags": []
   },
   "source": [
    "10. Create an array named **line** using linspace with 15 linearly spaced points between 0 and 1. "
   ]
  },
  {
   "cell_type": "code",
   "execution_count": 84,
   "id": "7cd85f5f-4ef3-46ee-924e-7542c7f2e5d3",
   "metadata": {
    "deletable": false,
    "nbgrader": {
     "cell_type": "code",
     "checksum": "e545bf89f8558498df6e6d74ece0413e",
     "grade": false,
     "grade_id": "cell-16acdffd385a34b5",
     "locked": false,
     "schema_version": 3,
     "solution": true,
     "task": false
    },
    "tags": []
   },
   "outputs": [],
   "source": [
    "line = np.linspace(0,1,15)"
   ]
  },
  {
   "cell_type": "code",
   "execution_count": 85,
   "id": "9fd6ed99-6e50-4aa1-be14-c9a5bd26018f",
   "metadata": {
    "deletable": false,
    "editable": false,
    "nbgrader": {
     "cell_type": "code",
     "checksum": "8ba2e8385a6bf265b8e9aa5bf1f3cad9",
     "grade": true,
     "grade_id": "cell-500152db6b1295d6",
     "locked": true,
     "points": 1,
     "schema_version": 3,
     "solution": false,
     "task": false
    },
    "tags": []
   },
   "outputs": [],
   "source": [
    "assert line[0] == 0\n",
    "assert line[-1] == 1\n",
    "assert line.size == 15"
   ]
  }
 ],
 "metadata": {
  "kernelspec": {
   "display_name": "Python 3 (ipykernel)",
   "language": "python",
   "name": "python3"
  },
  "language_info": {
   "codemirror_mode": {
    "name": "ipython",
    "version": 3
   },
   "file_extension": ".py",
   "mimetype": "text/x-python",
   "name": "python",
   "nbconvert_exporter": "python",
   "pygments_lexer": "ipython3",
   "version": "3.10.9"
  }
 },
 "nbformat": 4,
 "nbformat_minor": 5
}
