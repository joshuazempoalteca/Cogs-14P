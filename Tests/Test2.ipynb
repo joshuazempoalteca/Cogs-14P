{
 "cells": [
  {
   "cell_type": "markdown",
   "id": "e2d570d9",
   "metadata": {},
   "source": [
    "Before you turn this problem in, make sure everything runs as expected. First, **restart the kernel** (in the menubar, select Kernel$\\rightarrow$Restart) and then **run all cells** (in the menubar, select Cell$\\rightarrow$Run All).\n",
    "\n",
    "Make sure you fill in any place that says `YOUR CODE HERE` or \"YOUR ANSWER HERE\", as well as your name and collaborators below:"
   ]
  },
  {
   "cell_type": "code",
   "execution_count": 1,
   "id": "e913c92d",
   "metadata": {},
   "outputs": [],
   "source": [
    "NAME = \"Joshua Zempoalteca\"\n",
    "COLLABORATORS = \"python23*\""
   ]
  },
  {
   "cell_type": "markdown",
   "id": "2ed274bd",
   "metadata": {},
   "source": [
    "---"
   ]
  },
  {
   "cell_type": "markdown",
   "id": "f2c65b76-9cdd-4195-b713-bc3ab181cc8e",
   "metadata": {
    "deletable": false,
    "editable": false,
    "nbgrader": {
     "cell_type": "markdown",
     "checksum": "b3c02d83bde4ae8820205ff341d73bbb",
     "grade": false,
     "grade_id": "cell-9cf4378e6785af32",
     "locked": true,
     "schema_version": 3,
     "solution": false,
     "task": false
    },
    "tags": []
   },
   "source": [
    "# **Test 2** \n",
    "### Please answer each question by writing the code that solves the question.  \n",
    "### You may make use of any class notes you want.\n",
    "### You may not use any internet searches during the test. \n",
    "### You may not use your phone during the test. \n",
    "### You may not communicate with anybody during the test.  "
   ]
  },
  {
   "cell_type": "code",
   "execution_count": 2,
   "id": "70b130c7-4c0e-4694-9d88-b3af4cc38d68",
   "metadata": {},
   "outputs": [],
   "source": [
    "import numpy as np\n",
    "from numpy import random \n",
    "from matplotlib import pyplot as plt"
   ]
  },
  {
   "cell_type": "markdown",
   "id": "46bce9b8-4ca7-4703-99fd-53e5ebd72695",
   "metadata": {
    "deletable": false,
    "editable": false,
    "nbgrader": {
     "cell_type": "markdown",
     "checksum": "6d4e5a209bdb0eeeecb5f4c9255a16c0",
     "grade": false,
     "grade_id": "cell-e08fa2c056c900a9",
     "locked": true,
     "schema_version": 3,
     "solution": false,
     "task": false
    },
    "tags": []
   },
   "source": [
    "### 1.  (3 pts)  write a for loop that prints a countdown starting from the number **n** to the number 1. For your test case, set n = 10     "
   ]
  },
  {
   "cell_type": "code",
   "execution_count": 3,
   "id": "4b380c84-5c98-4647-83fd-225cbfb3bc88",
   "metadata": {
    "deletable": false,
    "nbgrader": {
     "cell_type": "code",
     "checksum": "d22646b006bd5cf7afaaa58eadb1b822",
     "grade": false,
     "grade_id": "cell-059da929b42afd65",
     "locked": false,
     "schema_version": 3,
     "solution": true,
     "task": false
    },
    "tags": []
   },
   "outputs": [
    {
     "name": "stdout",
     "output_type": "stream",
     "text": [
      "9\n",
      "8\n",
      "7\n",
      "6\n",
      "5\n",
      "4\n",
      "3\n",
      "2\n",
      "1\n"
     ]
    }
   ],
   "source": [
    "n = 10\n",
    "\n",
    "while n > 1:\n",
    "    print(n- 1)\n",
    "    n -= 1"
   ]
  },
  {
   "cell_type": "code",
   "execution_count": 4,
   "id": "089ba5fb-43ac-4c0c-a78b-2eb75067e8c3",
   "metadata": {
    "deletable": false,
    "editable": false,
    "nbgrader": {
     "cell_type": "code",
     "checksum": "e8d95aa8391d4fdf635f1058a71e4504",
     "grade": true,
     "grade_id": "cell-91b48bfcb562d1be",
     "locked": true,
     "points": 3,
     "schema_version": 3,
     "solution": false,
     "task": false
    },
    "tags": []
   },
   "outputs": [],
   "source": [
    "assert 1 == 1"
   ]
  },
  {
   "cell_type": "markdown",
   "id": "eef3c3c8-f34d-4c0b-9e11-83d5d03f8a27",
   "metadata": {
    "deletable": false,
    "editable": false,
    "nbgrader": {
     "cell_type": "markdown",
     "checksum": "b73d9c7ad09ccf0263551a5d2b984b12",
     "grade": false,
     "grade_id": "cell-cc06fd9bfa7b392f",
     "locked": true,
     "schema_version": 3,
     "solution": false,
     "task": false
    },
    "tags": []
   },
   "source": [
    "### 2. (4 pts)  In your first year on a job you earn 50,000.  Every year your salary goes up by 4%.  Make a for loop that saves a list **salary** that has your salary for every year starting at 50000.  For your test case calculate the salary upto year 10 (inclusive).   "
   ]
  },
  {
   "cell_type": "code",
   "execution_count": 10,
   "id": "40a474d7-d5f9-44fa-9c14-231c5fd86842",
   "metadata": {
    "deletable": false,
    "nbgrader": {
     "cell_type": "code",
     "checksum": "3c40cf70b6ede920f9dbfed7b81509b5",
     "grade": false,
     "grade_id": "cell-50afb01193ca4b3c",
     "locked": false,
     "schema_version": 3,
     "solution": true,
     "task": false
    },
    "tags": []
   },
   "outputs": [
    {
     "name": "stdout",
     "output_type": "stream",
     "text": [
      "[50000, 52000.0, 54080.0, 56243.2, 58492.928, 60832.64512, 63265.9509248, 65796.588961792, 68428.45252026369, 71165.59062107424, 74012.2142459172]\n"
     ]
    }
   ],
   "source": [
    "n = 10\n",
    "loop_counter = 0\n",
    "salary_total = 50000\n",
    "salary = [salary_total]\n",
    "\n",
    "while loop_counter < n:\n",
    "    salary_total = salary_total + (salary_total * 0.04)\n",
    "    salary.append(salary_total)\n",
    "    loop_counter += 1\n",
    "    \n",
    "print(salary)"
   ]
  },
  {
   "cell_type": "code",
   "execution_count": 11,
   "id": "d090a019-0a69-475c-b508-005f7f9dfe84",
   "metadata": {
    "deletable": false,
    "editable": false,
    "nbgrader": {
     "cell_type": "code",
     "checksum": "9dd21455041b718378027289d16a67d3",
     "grade": true,
     "grade_id": "cell-66047205a9176432",
     "locked": true,
     "points": 4,
     "schema_version": 3,
     "solution": false,
     "task": false
    },
    "tags": []
   },
   "outputs": [],
   "source": [
    "assert len(salary) == 11 \n",
    "assert salary[0] == 50000\n",
    "assert salary[2] == 54080"
   ]
  },
  {
   "cell_type": "markdown",
   "id": "1f4aa269-8c34-4ed7-8a5c-53be42d84ee6",
   "metadata": {},
   "source": [
    "### 3. (4 pts) The converse of the Pythagorean Theorem is:\n",
    "\n",
    "### If the square of the length of *any* one side of a triangle is equal to the sum of the squares of the other two sides, then the triangle is a right triangle.\n",
    "### Write an if-else or if-elif-else statement that uses the lengths of the three sides of the triangle ΔABC, with lengths **a**, **b**, **c** \n",
    "### and tests if a triangle is a right triangle using the Pythagorean theroem. If the triangle is a right triangle, set the variable **triangle** to the value 'right', or else set triangle to the value 'oblique'. \n",
    "### For your test case, use a=5, b=4, c=3. "
   ]
  },
  {
   "cell_type": "code",
   "execution_count": 15,
   "id": "9436184d-ac37-4696-b747-85902ee43bf7",
   "metadata": {
    "deletable": false,
    "nbgrader": {
     "cell_type": "code",
     "checksum": "a7ff56d58ed4edf2de32217839051c2b",
     "grade": false,
     "grade_id": "cell-77a146f7e1ec6100",
     "locked": false,
     "schema_version": 3,
     "solution": true,
     "task": false
    },
    "tags": []
   },
   "outputs": [],
   "source": [
    "a = 5\n",
    "b = 4\n",
    "c = 3 \n",
    "\n",
    "if a**2 == ((b**2) + (c**2)):\n",
    "    triangle = 'right'\n",
    "elif b**2 == ((c**2)+ (a**2)):\n",
    "    triangle = 'right'\n",
    "elif c**2 == ((a**2) + (c**2)):\n",
    "    triangle = 'right'\n",
    "else:\n",
    "    triangle =  'oblique'"
   ]
  },
  {
   "cell_type": "code",
   "execution_count": 17,
   "id": "6a6e8e9b-d62f-43de-b722-96fb15f8fc7e",
   "metadata": {
    "deletable": false,
    "editable": false,
    "nbgrader": {
     "cell_type": "code",
     "checksum": "74a2d1a8bd77c4ad95d9f33b5d3fd66e",
     "grade": true,
     "grade_id": "cell-f6954365e5a536ec",
     "locked": true,
     "points": 4,
     "schema_version": 3,
     "solution": false,
     "task": false
    },
    "tags": []
   },
   "outputs": [],
   "source": [
    "assert triangle == 'right'"
   ]
  },
  {
   "cell_type": "markdown",
   "id": "739c7b76-a956-4aa2-bf70-6b7224a427e6",
   "metadata": {},
   "source": [
    "### 4. (4 pts) Write a while loop that counts the number of times you can divide a positive integer **n** by an integer **m**, without any remainder. \n",
    "### For example, the number 120 can be divided by the number 2, three times \n",
    "\n",
    "* 120/2 = 120/2**1 = 60\n",
    "* 120/2/2 = 120/2**2 = 30 \n",
    "* 120/2/2/2 = 120/2**3 = 15\n",
    "* 120/2/2/2/2 = 120/2**4 = 7.5 (or 7 with a remainder of 1)\n",
    "\n",
    "### The variable that keeps track of the number of times you can divide by 2 should be called **count**. In the case \n",
    "### Run your code on a test case where **n** = 405 and **m** = 3 "
   ]
  },
  {
   "cell_type": "code",
   "execution_count": 22,
   "id": "171aad92-7f9f-4c46-90c4-18b4b63921a3",
   "metadata": {
    "deletable": false,
    "nbgrader": {
     "cell_type": "code",
     "checksum": "fcfc088a6d947e56fdf1085b6e189624",
     "grade": false,
     "grade_id": "cell-523c6d798aff5d23",
     "locked": false,
     "schema_version": 3,
     "solution": true,
     "task": false
    },
    "tags": []
   },
   "outputs": [],
   "source": [
    "n = 405\n",
    "m = 3\n",
    "count = 0\n",
    "\n",
    "while n % m == 0:\n",
    "   n = n // m\n",
    "   count += 1\n",
    "    "
   ]
  },
  {
   "cell_type": "code",
   "execution_count": 23,
   "id": "90b9b325-ff3a-425d-a741-f08a44069343",
   "metadata": {
    "deletable": false,
    "editable": false,
    "nbgrader": {
     "cell_type": "code",
     "checksum": "eea18b884727484ffd8450b6443ea02f",
     "grade": true,
     "grade_id": "cell-c4dcdc3ec577488e",
     "locked": true,
     "points": 4,
     "schema_version": 3,
     "solution": false,
     "task": false
    },
    "tags": []
   },
   "outputs": [
    {
     "ename": "AssertionError",
     "evalue": "",
     "output_type": "error",
     "traceback": [
      "\u001b[0;31m---------------------------------------------------------------------------\u001b[0m",
      "\u001b[0;31mAssertionError\u001b[0m                            Traceback (most recent call last)",
      "Cell \u001b[0;32mIn[23], line 1\u001b[0m\n\u001b[0;32m----> 1\u001b[0m \u001b[38;5;28;01massert\u001b[39;00m count \u001b[38;5;241m==\u001b[39m \u001b[38;5;241m5\u001b[39m\n",
      "\u001b[0;31mAssertionError\u001b[0m: "
     ]
    }
   ],
   "source": [
    "assert count == 5"
   ]
  }
 ],
 "metadata": {
  "kernelspec": {
   "display_name": "Python 3 (ipykernel)",
   "language": "python",
   "name": "python3"
  },
  "language_info": {
   "codemirror_mode": {
    "name": "ipython",
    "version": 3
   },
   "file_extension": ".py",
   "mimetype": "text/x-python",
   "name": "python",
   "nbconvert_exporter": "python",
   "pygments_lexer": "ipython3",
   "version": "3.10.9"
  }
 },
 "nbformat": 4,
 "nbformat_minor": 5
}
